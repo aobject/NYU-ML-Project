{
 "nbformat": 4,
 "nbformat_minor": 0,
 "metadata": {
  "colab": {
   "name": "scikit_pytorch_implementation.ipynb",
   "provenance": [],
   "collapsed_sections": [],
   "authorship_tag": "ABX9TyMWF1uPqEama/8PSfRKME42"
  },
  "kernelspec": {
   "name": "python37764bitf86a26a9c4904c82aa6a8855595a81bb",
   "language": "python",
   "display_name": "Python 3.7.7 64-bit"
  }
 },
 "cells": [
  {
   "cell_type": "markdown",
   "metadata": {
    "id": "Vqa6HkclYVuQ",
    "colab_type": "text"
   },
   "source": [
    "\n",
    "\n",
    "\n",
    "\n",
    "# Extension 01 // Convolutional Neural Network "
   ]
  },
  {
   "cell_type": "code",
   "metadata": {
    "id": "qe5yhNvrRJA0",
    "colab_type": "code",
    "colab": {}
   },
   "source": [
    "# set Hyperparameters \n",
    "epochs = 10"
   ],
   "execution_count": 1,
   "outputs": []
  },
  {
   "cell_type": "markdown",
   "metadata": {
    "id": "EQBb1Db1RHfy",
    "colab_type": "text"
   },
   "source": [
    "## Part ( i ) // Baseline Initial Machine Learning Algorithm on Dataset I: \n",
    "## Vanilla Neural Network\n",
    "\n",
    "The base strategy we are going to start with is Neural Networks. This topic was was covered in the week 8. In this first section I will include the code given in homework 8. The performance will give us a benchmark we can work from. \n",
    "\n",
    "Our extension to the code in homework 8 will be to add a convolutional layers to the neural network. First, we will use a PyTorch implementation. Then, we will write our own implementation. \n",
    "\n",
    "Here is the Neural Network implemented in homework 8. "
   ]
  },
  {
   "cell_type": "markdown",
   "metadata": {
    "id": "sxsbdBqu3p8j",
    "colab_type": "text"
   },
   "source": [
    "### The first thing we will do is import all the libraries\n",
    "\n",
    "We will be using the lower resolution MINST data set"
   ]
  },
  {
   "cell_type": "code",
   "metadata": {
    "id": "X76XgInQVDyg",
    "colab_type": "code",
    "colab": {}
   },
   "source": [
    "# Import Libraries\n",
    "from sklearn.datasets import load_digits # The MNIST data set is in scikit learn data set\n",
    "from sklearn.preprocessing import StandardScaler  # It is important in neural networks to scale the date\n",
    "from sklearn.model_selection import train_test_split  # The standard - train/test to prevent overfitting and choose hyperparameters\n",
    "from sklearn.metrics import accuracy_score # \n",
    "import numpy as np\n",
    "import numpy.random as r # We will randomly initialize our weights\n",
    "import matplotlib.pyplot as plt \n",
    "from bokeh.plotting import figure, output_file, show\n",
    "from bokeh.models import ColumnDataSource, HoverTool, NumeralTickFormatter, Legend\n",
    "from bokeh.io import output_notebook\n",
    "output_notebook()"
   ],
   "execution_count": 2,
   "outputs": [
    {
     "data": {
      "text/html": "\n    <div class=\"bk-root\">\n        <a href=\"https://bokeh.org\" target=\"_blank\" class=\"bk-logo bk-logo-small bk-logo-notebook\"></a>\n        <span id=\"1001\">Loading BokehJS ...</span>\n    </div>"
     },
     "metadata": {},
     "output_type": "display_data"
    },
    {
     "data": {
      "application/javascript": "\n(function(root) {\n  function now() {\n    return new Date();\n  }\n\n  var force = true;\n\n  if (typeof root._bokeh_onload_callbacks === \"undefined\" || force === true) {\n    root._bokeh_onload_callbacks = [];\n    root._bokeh_is_loading = undefined;\n  }\n\n  var JS_MIME_TYPE = 'application/javascript';\n  var HTML_MIME_TYPE = 'text/html';\n  var EXEC_MIME_TYPE = 'application/vnd.bokehjs_exec.v0+json';\n  var CLASS_NAME = 'output_bokeh rendered_html';\n\n  /**\n   * Render data to the DOM node\n   */\n  function render(props, node) {\n    var script = document.createElement(\"script\");\n    node.appendChild(script);\n  }\n\n  /**\n   * Handle when an output is cleared or removed\n   */\n  function handleClearOutput(event, handle) {\n    var cell = handle.cell;\n\n    var id = cell.output_area._bokeh_element_id;\n    var server_id = cell.output_area._bokeh_server_id;\n    // Clean up Bokeh references\n    if (id != null && id in Bokeh.index) {\n      Bokeh.index[id].model.document.clear();\n      delete Bokeh.index[id];\n    }\n\n    if (server_id !== undefined) {\n      // Clean up Bokeh references\n      var cmd = \"from bokeh.io.state import curstate; print(curstate().uuid_to_server['\" + server_id + \"'].get_sessions()[0].document.roots[0]._id)\";\n      cell.notebook.kernel.execute(cmd, {\n        iopub: {\n          output: function(msg) {\n            var id = msg.content.text.trim();\n            if (id in Bokeh.index) {\n              Bokeh.index[id].model.document.clear();\n              delete Bokeh.index[id];\n            }\n          }\n        }\n      });\n      // Destroy server and session\n      var cmd = \"import bokeh.io.notebook as ion; ion.destroy_server('\" + server_id + \"')\";\n      cell.notebook.kernel.execute(cmd);\n    }\n  }\n\n  /**\n   * Handle when a new output is added\n   */\n  function handleAddOutput(event, handle) {\n    var output_area = handle.output_area;\n    var output = handle.output;\n\n    // limit handleAddOutput to display_data with EXEC_MIME_TYPE content only\n    if ((output.output_type != \"display_data\") || (!output.data.hasOwnProperty(EXEC_MIME_TYPE))) {\n      return\n    }\n\n    var toinsert = output_area.element.find(\".\" + CLASS_NAME.split(' ')[0]);\n\n    if (output.metadata[EXEC_MIME_TYPE][\"id\"] !== undefined) {\n      toinsert[toinsert.length - 1].firstChild.textContent = output.data[JS_MIME_TYPE];\n      // store reference to embed id on output_area\n      output_area._bokeh_element_id = output.metadata[EXEC_MIME_TYPE][\"id\"];\n    }\n    if (output.metadata[EXEC_MIME_TYPE][\"server_id\"] !== undefined) {\n      var bk_div = document.createElement(\"div\");\n      bk_div.innerHTML = output.data[HTML_MIME_TYPE];\n      var script_attrs = bk_div.children[0].attributes;\n      for (var i = 0; i < script_attrs.length; i++) {\n        toinsert[toinsert.length - 1].firstChild.setAttribute(script_attrs[i].name, script_attrs[i].value);\n        toinsert[toinsert.length - 1].firstChild.textContent = bk_div.children[0].textContent\n      }\n      // store reference to server id on output_area\n      output_area._bokeh_server_id = output.metadata[EXEC_MIME_TYPE][\"server_id\"];\n    }\n  }\n\n  function register_renderer(events, OutputArea) {\n\n    function append_mime(data, metadata, element) {\n      // create a DOM node to render to\n      var toinsert = this.create_output_subarea(\n        metadata,\n        CLASS_NAME,\n        EXEC_MIME_TYPE\n      );\n      this.keyboard_manager.register_events(toinsert);\n      // Render to node\n      var props = {data: data, metadata: metadata[EXEC_MIME_TYPE]};\n      render(props, toinsert[toinsert.length - 1]);\n      element.append(toinsert);\n      return toinsert\n    }\n\n    /* Handle when an output is cleared or removed */\n    events.on('clear_output.CodeCell', handleClearOutput);\n    events.on('delete.Cell', handleClearOutput);\n\n    /* Handle when a new output is added */\n    events.on('output_added.OutputArea', handleAddOutput);\n\n    /**\n     * Register the mime type and append_mime function with output_area\n     */\n    OutputArea.prototype.register_mime_type(EXEC_MIME_TYPE, append_mime, {\n      /* Is output safe? */\n      safe: true,\n      /* Index of renderer in `output_area.display_order` */\n      index: 0\n    });\n  }\n\n  // register the mime type if in Jupyter Notebook environment and previously unregistered\n  if (root.Jupyter !== undefined) {\n    var events = require('base/js/events');\n    var OutputArea = require('notebook/js/outputarea').OutputArea;\n\n    if (OutputArea.prototype.mime_types().indexOf(EXEC_MIME_TYPE) == -1) {\n      register_renderer(events, OutputArea);\n    }\n  }\n\n  \n  if (typeof (root._bokeh_timeout) === \"undefined\" || force === true) {\n    root._bokeh_timeout = Date.now() + 5000;\n    root._bokeh_failed_load = false;\n  }\n\n  var NB_LOAD_WARNING = {'data': {'text/html':\n     \"<div style='background-color: #fdd'>\\n\"+\n     \"<p>\\n\"+\n     \"BokehJS does not appear to have successfully loaded. If loading BokehJS from CDN, this \\n\"+\n     \"may be due to a slow or bad network connection. Possible fixes:\\n\"+\n     \"</p>\\n\"+\n     \"<ul>\\n\"+\n     \"<li>re-rerun `output_notebook()` to attempt to load from CDN again, or</li>\\n\"+\n     \"<li>use INLINE resources instead, as so:</li>\\n\"+\n     \"</ul>\\n\"+\n     \"<code>\\n\"+\n     \"from bokeh.resources import INLINE\\n\"+\n     \"output_notebook(resources=INLINE)\\n\"+\n     \"</code>\\n\"+\n     \"</div>\"}};\n\n  function display_loaded() {\n    var el = document.getElementById(\"1001\");\n    if (el != null) {\n      el.textContent = \"BokehJS is loading...\";\n    }\n    if (root.Bokeh !== undefined) {\n      if (el != null) {\n        el.textContent = \"BokehJS \" + root.Bokeh.version + \" successfully loaded.\";\n      }\n    } else if (Date.now() < root._bokeh_timeout) {\n      setTimeout(display_loaded, 100)\n    }\n  }\n\n\n  function run_callbacks() {\n    try {\n      root._bokeh_onload_callbacks.forEach(function(callback) {\n        if (callback != null)\n          callback();\n      });\n    } finally {\n      delete root._bokeh_onload_callbacks\n    }\n    console.debug(\"Bokeh: all callbacks have finished\");\n  }\n\n  function load_libs(css_urls, js_urls, callback) {\n    if (css_urls == null) css_urls = [];\n    if (js_urls == null) js_urls = [];\n\n    root._bokeh_onload_callbacks.push(callback);\n    if (root._bokeh_is_loading > 0) {\n      console.debug(\"Bokeh: BokehJS is being loaded, scheduling callback at\", now());\n      return null;\n    }\n    if (js_urls == null || js_urls.length === 0) {\n      run_callbacks();\n      return null;\n    }\n    console.debug(\"Bokeh: BokehJS not loaded, scheduling load and callback at\", now());\n    root._bokeh_is_loading = css_urls.length + js_urls.length;\n\n    function on_load() {\n      root._bokeh_is_loading--;\n      if (root._bokeh_is_loading === 0) {\n        console.debug(\"Bokeh: all BokehJS libraries/stylesheets loaded\");\n        run_callbacks()\n      }\n    }\n\n    function on_error() {\n      console.error(\"failed to load \" + url);\n    }\n\n    for (var i = 0; i < css_urls.length; i++) {\n      var url = css_urls[i];\n      const element = document.createElement(\"link\");\n      element.onload = on_load;\n      element.onerror = on_error;\n      element.rel = \"stylesheet\";\n      element.type = \"text/css\";\n      element.href = url;\n      console.debug(\"Bokeh: injecting link tag for BokehJS stylesheet: \", url);\n      document.body.appendChild(element);\n    }\n\n    const hashes = {\"https://cdn.bokeh.org/bokeh/release/bokeh-2.0.1.min.js\": \"JpP8FXbgAZLkfur7LiK3j9AGBhHNIvF742meBJrjO2ShJDhCG2I1uVvW+0DUtrmc\", \"https://cdn.bokeh.org/bokeh/release/bokeh-widgets-2.0.1.min.js\": \"xZlADit0Q04ISQEdKg2k3L4W9AwQBAuDs9nJL9fM/WwzL1tEU9VPNezOFX0nLEAz\", \"https://cdn.bokeh.org/bokeh/release/bokeh-tables-2.0.1.min.js\": \"4BuPRZkdMKSnj3zoxiNrQ86XgNw0rYmBOxe7nshquXwwcauupgBF2DHLVG1WuZlV\", \"https://cdn.bokeh.org/bokeh/release/bokeh-gl-2.0.1.min.js\": \"Dv1SQ87hmDqK6S5OhBf0bCuwAEvL5QYL0PuR/F1SPVhCS/r/abjkbpKDYL2zeM19\"};\n\n    for (var i = 0; i < js_urls.length; i++) {\n      var url = js_urls[i];\n      var element = document.createElement('script');\n      element.onload = on_load;\n      element.onerror = on_error;\n      element.async = false;\n      element.src = url;\n      if (url in hashes) {\n        element.crossOrigin = \"anonymous\";\n        element.integrity = \"sha384-\" + hashes[url];\n      }\n      console.debug(\"Bokeh: injecting script tag for BokehJS library: \", url);\n      document.head.appendChild(element);\n    }\n  };var element = document.getElementById(\"1001\");\n  if (element == null) {\n    console.error(\"Bokeh: ERROR: autoload.js configured with elementid '1001' but no matching script tag was found. \")\n    return false;\n  }\n\n  function inject_raw_css(css) {\n    const element = document.createElement(\"style\");\n    element.appendChild(document.createTextNode(css));\n    document.body.appendChild(element);\n  }\n\n  \n  var js_urls = [\"https://cdn.bokeh.org/bokeh/release/bokeh-2.0.1.min.js\", \"https://cdn.bokeh.org/bokeh/release/bokeh-widgets-2.0.1.min.js\", \"https://cdn.bokeh.org/bokeh/release/bokeh-tables-2.0.1.min.js\", \"https://cdn.bokeh.org/bokeh/release/bokeh-gl-2.0.1.min.js\"];\n  var css_urls = [];\n  \n\n  var inline_js = [\n    function(Bokeh) {\n      Bokeh.set_log_level(\"info\");\n    },\n    function(Bokeh) {\n    \n    \n    }\n  ];\n\n  function run_inline_js() {\n    \n    if (root.Bokeh !== undefined || force === true) {\n      \n    for (var i = 0; i < inline_js.length; i++) {\n      inline_js[i].call(root, root.Bokeh);\n    }\n    if (force === true) {\n        display_loaded();\n      }} else if (Date.now() < root._bokeh_timeout) {\n      setTimeout(run_inline_js, 100);\n    } else if (!root._bokeh_failed_load) {\n      console.log(\"Bokeh: BokehJS failed to load within specified timeout.\");\n      root._bokeh_failed_load = true;\n    } else if (force !== true) {\n      var cell = $(document.getElementById(\"1001\")).parents('.cell').data().cell;\n      cell.output_area.append_execute_result(NB_LOAD_WARNING)\n    }\n\n  }\n\n  if (root._bokeh_is_loading === 0) {\n    console.debug(\"Bokeh: BokehJS loaded, going straight to plotting\");\n    run_inline_js();\n  } else {\n    load_libs(css_urls, js_urls, function() {\n      console.debug(\"Bokeh: BokehJS plotting callback run at\", now());\n      run_inline_js();\n    });\n  }\n}(window));",
      "application/vnd.bokehjs_load.v0+json": "\n(function(root) {\n  function now() {\n    return new Date();\n  }\n\n  var force = true;\n\n  if (typeof root._bokeh_onload_callbacks === \"undefined\" || force === true) {\n    root._bokeh_onload_callbacks = [];\n    root._bokeh_is_loading = undefined;\n  }\n\n  \n\n  \n  if (typeof (root._bokeh_timeout) === \"undefined\" || force === true) {\n    root._bokeh_timeout = Date.now() + 5000;\n    root._bokeh_failed_load = false;\n  }\n\n  var NB_LOAD_WARNING = {'data': {'text/html':\n     \"<div style='background-color: #fdd'>\\n\"+\n     \"<p>\\n\"+\n     \"BokehJS does not appear to have successfully loaded. If loading BokehJS from CDN, this \\n\"+\n     \"may be due to a slow or bad network connection. Possible fixes:\\n\"+\n     \"</p>\\n\"+\n     \"<ul>\\n\"+\n     \"<li>re-rerun `output_notebook()` to attempt to load from CDN again, or</li>\\n\"+\n     \"<li>use INLINE resources instead, as so:</li>\\n\"+\n     \"</ul>\\n\"+\n     \"<code>\\n\"+\n     \"from bokeh.resources import INLINE\\n\"+\n     \"output_notebook(resources=INLINE)\\n\"+\n     \"</code>\\n\"+\n     \"</div>\"}};\n\n  function display_loaded() {\n    var el = document.getElementById(\"1001\");\n    if (el != null) {\n      el.textContent = \"BokehJS is loading...\";\n    }\n    if (root.Bokeh !== undefined) {\n      if (el != null) {\n        el.textContent = \"BokehJS \" + root.Bokeh.version + \" successfully loaded.\";\n      }\n    } else if (Date.now() < root._bokeh_timeout) {\n      setTimeout(display_loaded, 100)\n    }\n  }\n\n\n  function run_callbacks() {\n    try {\n      root._bokeh_onload_callbacks.forEach(function(callback) {\n        if (callback != null)\n          callback();\n      });\n    } finally {\n      delete root._bokeh_onload_callbacks\n    }\n    console.debug(\"Bokeh: all callbacks have finished\");\n  }\n\n  function load_libs(css_urls, js_urls, callback) {\n    if (css_urls == null) css_urls = [];\n    if (js_urls == null) js_urls = [];\n\n    root._bokeh_onload_callbacks.push(callback);\n    if (root._bokeh_is_loading > 0) {\n      console.debug(\"Bokeh: BokehJS is being loaded, scheduling callback at\", now());\n      return null;\n    }\n    if (js_urls == null || js_urls.length === 0) {\n      run_callbacks();\n      return null;\n    }\n    console.debug(\"Bokeh: BokehJS not loaded, scheduling load and callback at\", now());\n    root._bokeh_is_loading = css_urls.length + js_urls.length;\n\n    function on_load() {\n      root._bokeh_is_loading--;\n      if (root._bokeh_is_loading === 0) {\n        console.debug(\"Bokeh: all BokehJS libraries/stylesheets loaded\");\n        run_callbacks()\n      }\n    }\n\n    function on_error() {\n      console.error(\"failed to load \" + url);\n    }\n\n    for (var i = 0; i < css_urls.length; i++) {\n      var url = css_urls[i];\n      const element = document.createElement(\"link\");\n      element.onload = on_load;\n      element.onerror = on_error;\n      element.rel = \"stylesheet\";\n      element.type = \"text/css\";\n      element.href = url;\n      console.debug(\"Bokeh: injecting link tag for BokehJS stylesheet: \", url);\n      document.body.appendChild(element);\n    }\n\n    const hashes = {\"https://cdn.bokeh.org/bokeh/release/bokeh-2.0.1.min.js\": \"JpP8FXbgAZLkfur7LiK3j9AGBhHNIvF742meBJrjO2ShJDhCG2I1uVvW+0DUtrmc\", \"https://cdn.bokeh.org/bokeh/release/bokeh-widgets-2.0.1.min.js\": \"xZlADit0Q04ISQEdKg2k3L4W9AwQBAuDs9nJL9fM/WwzL1tEU9VPNezOFX0nLEAz\", \"https://cdn.bokeh.org/bokeh/release/bokeh-tables-2.0.1.min.js\": \"4BuPRZkdMKSnj3zoxiNrQ86XgNw0rYmBOxe7nshquXwwcauupgBF2DHLVG1WuZlV\", \"https://cdn.bokeh.org/bokeh/release/bokeh-gl-2.0.1.min.js\": \"Dv1SQ87hmDqK6S5OhBf0bCuwAEvL5QYL0PuR/F1SPVhCS/r/abjkbpKDYL2zeM19\"};\n\n    for (var i = 0; i < js_urls.length; i++) {\n      var url = js_urls[i];\n      var element = document.createElement('script');\n      element.onload = on_load;\n      element.onerror = on_error;\n      element.async = false;\n      element.src = url;\n      if (url in hashes) {\n        element.crossOrigin = \"anonymous\";\n        element.integrity = \"sha384-\" + hashes[url];\n      }\n      console.debug(\"Bokeh: injecting script tag for BokehJS library: \", url);\n      document.head.appendChild(element);\n    }\n  };var element = document.getElementById(\"1001\");\n  if (element == null) {\n    console.error(\"Bokeh: ERROR: autoload.js configured with elementid '1001' but no matching script tag was found. \")\n    return false;\n  }\n\n  function inject_raw_css(css) {\n    const element = document.createElement(\"style\");\n    element.appendChild(document.createTextNode(css));\n    document.body.appendChild(element);\n  }\n\n  \n  var js_urls = [\"https://cdn.bokeh.org/bokeh/release/bokeh-2.0.1.min.js\", \"https://cdn.bokeh.org/bokeh/release/bokeh-widgets-2.0.1.min.js\", \"https://cdn.bokeh.org/bokeh/release/bokeh-tables-2.0.1.min.js\", \"https://cdn.bokeh.org/bokeh/release/bokeh-gl-2.0.1.min.js\"];\n  var css_urls = [];\n  \n\n  var inline_js = [\n    function(Bokeh) {\n      Bokeh.set_log_level(\"info\");\n    },\n    function(Bokeh) {\n    \n    \n    }\n  ];\n\n  function run_inline_js() {\n    \n    if (root.Bokeh !== undefined || force === true) {\n      \n    for (var i = 0; i < inline_js.length; i++) {\n      inline_js[i].call(root, root.Bokeh);\n    }\n    if (force === true) {\n        display_loaded();\n      }} else if (Date.now() < root._bokeh_timeout) {\n      setTimeout(run_inline_js, 100);\n    } else if (!root._bokeh_failed_load) {\n      console.log(\"Bokeh: BokehJS failed to load within specified timeout.\");\n      root._bokeh_failed_load = true;\n    } else if (force !== true) {\n      var cell = $(document.getElementById(\"1001\")).parents('.cell').data().cell;\n      cell.output_area.append_execute_result(NB_LOAD_WARNING)\n    }\n\n  }\n\n  if (root._bokeh_is_loading === 0) {\n    console.debug(\"Bokeh: BokehJS loaded, going straight to plotting\");\n    run_inline_js();\n  } else {\n    load_libs(css_urls, js_urls, function() {\n      console.debug(\"Bokeh: BokehJS plotting callback run at\", now());\n      run_inline_js();\n    });\n  }\n}(window));"
     },
     "metadata": {},
     "output_type": "display_data"
    }
   ]
  },
  {
   "cell_type": "markdown",
   "metadata": {
    "id": "Bd_PAQN93694",
    "colab_type": "text"
   },
   "source": [
    "### Looking at the data\n",
    "\n",
    "After we load the data, we print the shape of the data and a pixelated digit.\n",
    "\n",
    "We also show what the features of one example looks like.\n",
    "\n",
    "The neural net will learn to estimate which digit these pixels represent."
   ]
  },
  {
   "cell_type": "code",
   "metadata": {
    "id": "yCY_Jnu333zF",
    "colab_type": "code",
    "outputId": "ade19e2a-1d5c-4f93-d267-8a14f2800a89",
    "executionInfo": {
     "status": "ok",
     "timestamp": 1588088032681,
     "user_tz": 240,
     "elapsed": 902,
     "user": {
      "displayName": "Justin Snider",
      "photoUrl": "https://lh3.googleusercontent.com/a-/AOh14GgxE1rcmEx09dFhwbDiXgGqIR929MsxWPJ8jCZ3=s64",
      "userId": "09386420671436836792"
     }
    },
    "colab": {
     "base_uri": "https://localhost:8080/",
     "height": 411
    }
   },
   "source": [
    "digits=load_digits()\n",
    "X = digits.data\n",
    "print(\"The shape of the digits dataset:\") \n",
    "print(digits.data.shape)\n",
    "plt.gray()\n",
    "plt.matshow(digits.images[0])\n",
    "plt.show()\n",
    "y = digits.target\n",
    "print(y[0:1])\n",
    "print(X[0,:])"
   ],
   "execution_count": 3,
   "outputs": [
    {
     "name": "stdout",
     "output_type": "stream",
     "text": [
      "The shape of the digits dataset:\n",
      "(1797, 64)\n",
      "[0]\n",
      "[ 0.  0.  5. 13.  9.  1.  0.  0.  0.  0. 13. 15. 10. 15.  5.  0.  0.  3.\n",
      " 15.  2.  0. 11.  8.  0.  0.  4. 12.  0.  0.  8.  8.  0.  0.  5.  8.  0.\n",
      "  0.  9.  8.  0.  0.  4. 11.  0.  1. 12.  7.  0.  0.  2. 14.  5. 10. 12.\n",
      "  0.  0.  0.  0.  6. 13. 10.  0.  0.  0.]\n"
     ]
    },
    {
     "data": {
      "text/plain": "<Figure size 432x288 with 0 Axes>"
     },
     "metadata": {},
     "output_type": "display_data"
    },
    {
     "data": {
      "text/plain": "<Figure size 288x288 with 1 Axes>",
      "image/png": "[encoded data removed]"
     },
     "metadata": {
      "needs_background": "light"
     },
     "output_type": "display_data"
    }
   ]
  },
  {
   "cell_type": "markdown",
   "metadata": {
    "id": "3AeXqeUe4CZd",
    "colab_type": "text"
   },
   "source": [
    "### 1) Scale the dataset\n",
    "The training features range from 0 to 15.  To help the algorithm converge, we will scale the data to have a mean of 0 and unit variance"
   ]
  },
  {
   "cell_type": "code",
   "metadata": {
    "id": "Jar9Nbm03_Tv",
    "colab_type": "code",
    "outputId": "0e794568-dd3d-4ff9-9269-a61a24935a0a",
    "executionInfo": {
     "status": "ok",
     "timestamp": 1588088032681,
     "user_tz": 240,
     "elapsed": 890,
     "user": {
      "displayName": "Justin Snider",
      "photoUrl": "https://lh3.googleusercontent.com/a-/AOh14GgxE1rcmEx09dFhwbDiXgGqIR929MsxWPJ8jCZ3=s64",
      "userId": "09386420671436836792"
     }
    },
    "colab": {
     "base_uri": "https://localhost:8080/",
     "height": 238
    }
   },
   "source": [
    "X_scale = StandardScaler()\n",
    "X = X_scale.fit_transform(digits.data)\n",
    "\n",
    "X[0,:] # Looking the new features after scaling"
   ],
   "execution_count": 4,
   "outputs": [
    {
     "data": {
      "text/plain": "array([ 0.        , -0.33501649, -0.04308102,  0.27407152, -0.66447751,\n       -0.84412939, -0.40972392, -0.12502292, -0.05907756, -0.62400926,\n        0.4829745 ,  0.75962245, -0.05842586,  1.12772113,  0.87958306,\n       -0.13043338, -0.04462507,  0.11144272,  0.89588044, -0.86066632,\n       -1.14964846,  0.51547187,  1.90596347, -0.11422184, -0.03337973,\n        0.48648928,  0.46988512, -1.49990136, -1.61406277,  0.07639777,\n        1.54181413, -0.04723238,  0.        ,  0.76465553,  0.05263019,\n       -1.44763006, -1.73666443,  0.04361588,  1.43955804,  0.        ,\n       -0.06134367,  0.8105536 ,  0.63011714, -1.12245711, -1.06623158,\n        0.66096475,  0.81845076, -0.08874162, -0.03543326,  0.74211893,\n        1.15065212, -0.86867056,  0.11012973,  0.53761116, -0.75743581,\n       -0.20978513, -0.02359646, -0.29908135,  0.08671869,  0.20829258,\n       -0.36677122, -1.14664746, -0.5056698 , -0.19600752])"
     },
     "execution_count": 4,
     "metadata": {},
     "output_type": "execute_result"
    }
   ]
  },
  {
   "cell_type": "markdown",
   "metadata": {
    "id": "qPwIxGBs4KSM",
    "colab_type": "text"
   },
   "source": [
    "### 2) Creating training and test datasets\n",
    "We split the data into training and test data sets. We will train the neural network with the training dataset, and evaluate our neural network with the test dataset "
   ]
  },
  {
   "cell_type": "code",
   "metadata": {
    "id": "MG1059rj4HRO",
    "colab_type": "code",
    "colab": {}
   },
   "source": [
    "#Split the data into training and test set.  60% training and %40 test\n",
    "X_train, X_test, y_train, y_test = train_test_split(X, y, test_size=0.4)"
   ],
   "execution_count": 5,
   "outputs": []
  },
  {
   "cell_type": "markdown",
   "metadata": {
    "id": "CbOtfQ-T4O24",
    "colab_type": "text"
   },
   "source": [
    "### 3) Setting up the output layer\n",
    "\n",
    "### One hot encoding\n",
    "Our target is an integer in the range [0,..,9], so we will have 10 output neuron's in our network.  \n",
    "\n",
    "-  If  $y=0$, we want the output neurons to have the values $(1,0,0,0,0,0,0,0,0,0)$\n",
    "\n",
    "-  If  $y=1$ we want the output neurons to have the values $(0,1,0,0,0,0,0,0,0,0)$\n",
    "-  etc\n",
    "\n",
    "Thus we need to change our target so it is the same as our hoped for output of the neural network.  \n",
    "-  If $y=0$ we change it into the vector $(1,0,0,0,0,0,0,0,0,0)$. \n",
    "-  If $y=1$ we change it into the vector $(0,1,0,0,0,0,0,0,0,0)$\n",
    "-  etc\n",
    "\n",
    "See page 29 from the website listed above\n",
    "\n",
    "The code to covert the target vector.\n"
   ]
  },
  {
   "cell_type": "code",
   "metadata": {
    "id": "c_88zsh74OCN",
    "colab_type": "code",
    "outputId": "e18245c3-d6ee-405d-ca28-a36b2829147a",
    "executionInfo": {
     "status": "ok",
     "timestamp": 1588088032967,
     "user_tz": 240,
     "elapsed": 1158,
     "user": {
      "displayName": "Justin Snider",
      "photoUrl": "https://lh3.googleusercontent.com/a-/AOh14GgxE1rcmEx09dFhwbDiXgGqIR929MsxWPJ8jCZ3=s64",
      "userId": "09386420671436836792"
     }
    },
    "colab": {
     "base_uri": "https://localhost:8080/",
     "height": 34
    }
   },
   "source": [
    "print('/test/test_{:0>3f}'.format(np.around(9.7748848488448, decimals=4)))"
   ],
   "execution_count": 6,
   "outputs": [
    {
     "name": "stdout",
     "output_type": "stream",
     "text": [
      "/test/test_9.774900\n"
     ]
    }
   ]
  },
  {
   "cell_type": "code",
   "metadata": {
    "id": "hbvFZPlb4Z58",
    "colab_type": "code",
    "colab": {}
   },
   "source": [
    "def convert_y_to_vect(y):\n",
    "    y_vect = np.zeros((len(y), 10))\n",
    "    for i in range(len(y)):\n",
    "        y_vect[i, y[i]] = 1\n",
    "    return y_vect"
   ],
   "execution_count": 7,
   "outputs": []
  },
  {
   "cell_type": "markdown",
   "metadata": {
    "id": "ob1zAzS04iE8",
    "colab_type": "text"
   },
   "source": [
    "Converting the training and test targets to vectors "
   ]
  },
  {
   "cell_type": "code",
   "metadata": {
    "id": "OcMb0NP94ci0",
    "colab_type": "code",
    "colab": {}
   },
   "source": [
    "# convert digits to vectors\n",
    "y_v_train = convert_y_to_vect(y_train)\n",
    "y_v_test = convert_y_to_vect(y_test)"
   ],
   "execution_count": 8,
   "outputs": []
  },
  {
   "cell_type": "markdown",
   "metadata": {
    "id": "1DHy0DMu4txN",
    "colab_type": "text"
   },
   "source": [
    "A quick check to see that our code performs as we expect "
   ]
  },
  {
   "cell_type": "code",
   "metadata": {
    "id": "lN7yw9WC4rsK",
    "colab_type": "code",
    "outputId": "d098836a-bf75-4d63-ff44-ecd91bc54e5e",
    "executionInfo": {
     "status": "ok",
     "timestamp": 1588088032969,
     "user_tz": 240,
     "elapsed": 1142,
     "user": {
      "displayName": "Justin Snider",
      "photoUrl": "https://lh3.googleusercontent.com/a-/AOh14GgxE1rcmEx09dFhwbDiXgGqIR929MsxWPJ8jCZ3=s64",
      "userId": "09386420671436836792"
     }
    },
    "colab": {
     "base_uri": "https://localhost:8080/",
     "height": 102
    }
   },
   "source": [
    "print(y_train[0:4])\n",
    "print(y_v_train[0:4])"
   ],
   "execution_count": 9,
   "outputs": [
    {
     "name": "stdout",
     "output_type": "stream",
     "text": [
      "[6 4 8 7]\n",
      "[[0. 0. 0. 0. 0. 0. 1. 0. 0. 0.]\n",
      " [0. 0. 0. 0. 1. 0. 0. 0. 0. 0.]\n",
      " [0. 0. 0. 0. 0. 0. 0. 0. 1. 0.]\n",
      " [0. 0. 0. 0. 0. 0. 0. 1. 0. 0.]]\n"
     ]
    }
   ]
  },
  {
   "cell_type": "markdown",
   "metadata": {
    "id": "nSZeVpMS4zTT",
    "colab_type": "text"
   },
   "source": [
    "### 4) Creating the neural network\n",
    "\n",
    "### The activation function and its derivative\n",
    "\n",
    "We will use the sigmoid activation function:  $f(z)=\\frac{1}{1+e^{-z}}$\n",
    "\n",
    "The deriviative of the sigmoid function is: $f'(z) = f(z)(1-f(z))$ "
   ]
  },
  {
   "cell_type": "code",
   "metadata": {
    "id": "-7ZKJSEJ4wjS",
    "colab_type": "code",
    "colab": {}
   },
   "source": [
    "def f(z):\n",
    "    return 1 / (1 + np.exp(-z))\n",
    "\n",
    "\n",
    "def f_deriv(z):\n",
    "    return f(z) * (1 - f(z))"
   ],
   "execution_count": 10,
   "outputs": []
  },
  {
   "cell_type": "markdown",
   "metadata": {
    "id": "0xTR_15u48xF",
    "colab_type": "text"
   },
   "source": [
    "### Creating and initialing W and b\n",
    "We want the weights in W to be different so that during back propagation the nodes on a level will have different gradients and thus have different update values.\n",
    "\n",
    "We want the  weights to be small values, since the sigmoid is almost \"flat\" for large inputs.\n",
    "\n",
    "Next is the code that assigns each weight a number uniformly drawn from $[0.0, 1.0)$.  The code assumes that the number of neurons in each level is in the python list *nn_structure*.\n",
    "\n",
    "In the code, the weights, $W^{(\\ell)}$ and $b^{(\\ell)}$ are held in a python dictionary"
   ]
  },
  {
   "cell_type": "code",
   "metadata": {
    "id": "BIgGkfI2477R",
    "colab_type": "code",
    "colab": {}
   },
   "source": [
    "def setup_and_init_weights(nn_structure):\n",
    "    W = {} #creating a dictionary i.e. a set of key: value pairs\n",
    "    b = {}\n",
    "    for l in range(1, len(nn_structure)):\n",
    "        W[l] = r.random_sample((nn_structure[l], nn_structure[l-1])) #Return “continuous uniform” random floats in the half-open interval [0.0, 1.0). \n",
    "        b[l] = r.random_sample((nn_structure[l],))\n",
    "    return W, b"
   ],
   "execution_count": 11,
   "outputs": []
  },
  {
   "cell_type": "markdown",
   "metadata": {
    "id": "HTJA3iTK5GNl",
    "colab_type": "text"
   },
   "source": [
    "### Initializing $\\triangledown W$ and $\\triangledown b$\n",
    "Creating $\\triangledown W^{(\\ell)}$ and $\\triangledown b^{(\\ell)}$ to have the same size as $W^{(\\ell)}$ and $b^{(\\ell)}$, and setting $\\triangledown W^{(\\ell)}$, and  $\\triangledown b^{(\\ell)}$ to zero"
   ]
  },
  {
   "cell_type": "code",
   "metadata": {
    "id": "cltt9LqD5Diw",
    "colab_type": "code",
    "colab": {}
   },
   "source": [
    "def init_tri_values(nn_structure):\n",
    "    tri_W = {}\n",
    "    tri_b = {}\n",
    "    for l in range(1, len(nn_structure)):\n",
    "        tri_W[l] = np.zeros((nn_structure[l], nn_structure[l-1]))\n",
    "        tri_b[l] = np.zeros((nn_structure[l],))\n",
    "    return tri_W, tri_b"
   ],
   "execution_count": 12,
   "outputs": []
  },
  {
   "cell_type": "markdown",
   "metadata": {
    "id": "sFIs4fq55Kfv",
    "colab_type": "text"
   },
   "source": [
    "### Feed forward\n",
    "Perform a forward pass throught the network.  The function returns the values of $a$ and $z$"
   ]
  },
  {
   "cell_type": "code",
   "metadata": {
    "id": "dHh53TC_5Joo",
    "colab_type": "code",
    "colab": {}
   },
   "source": [
    "def feed_forward(x, W, b):\n",
    "    a = {1: x} # create a dictionary for holding the a values for all levels\n",
    "    z = { } # create a dictionary for holding the z values for all the layers\n",
    "    for l in range(1, len(W) + 1): # for each layer\n",
    "        node_in = a[l]\n",
    "        z[l+1] = W[l].dot(node_in) + b[l]  # z^(l+1) = W^(l)*a^(l) + b^(l)\n",
    "        # import pdb; pdb.set_trace()\n",
    "        a[l+1] = f(z[l+1]) # a^(l+1) = f(z^(l+1))\n",
    "    return a, z"
   ],
   "execution_count": 13,
   "outputs": []
  },
  {
   "cell_type": "markdown",
   "metadata": {
    "id": "ciK_g3hp5SQ3",
    "colab_type": "text"
   },
   "source": [
    "### Compute $\\delta$\n",
    "The code below compute $\\delta^{(s_l)}$ in a function called \"calculate_out_layer_delta\",  and  computes $\\delta^{(\\ell)}$ for the hidden layers in the function called \"calculate_hidden_delta\".  \n",
    "\n",
    "If we wanted to have a different cost function, we would change the \"calculate_out_layer_delta\" function.\n"
   ]
  },
  {
   "cell_type": "code",
   "metadata": {
    "id": "l2SxFE9d5Prw",
    "colab_type": "code",
    "colab": {}
   },
   "source": [
    "def calculate_out_layer_delta(y, a_out, z_out):\n",
    "    # delta^(nl) = -(y_i - a_i^(nl)) * f'(z_i^(nl))\n",
    "    return -(y-a_out) * f_deriv(z_out) \n",
    "\n",
    "\n",
    "def calculate_hidden_delta(delta_plus_1, w_l, z_l):\n",
    "    # delta^(l) = (transpose(W^(l)) * delta^(l+1)) * f'(z^(l))\n",
    "    return np.dot(np.transpose(w_l), delta_plus_1) * f_deriv(z_l)"
   ],
   "execution_count": 14,
   "outputs": []
  },
  {
   "cell_type": "markdown",
   "metadata": {
    "id": "lg5Cd3YO5XFn",
    "colab_type": "text"
   },
   "source": [
    "### The Back Propagation Algorithm\n"
   ]
  },
  {
   "cell_type": "code",
   "metadata": {
    "id": "47MWHs-t5VSo",
    "colab_type": "code",
    "colab": {}
   },
   "source": [
    "def predict_y(W, b, X, n_layers):\n",
    "    N = X.shape[0]\n",
    "    y = np.zeros((N,))\n",
    "    for i in range(N):\n",
    "        a, z = feed_forward(X[i, :], W, b)\n",
    "        y[i] = np.argmax(a[n_layers])\n",
    "    return y\n",
    "\n",
    "def train_nn(nn_structure, X_train, y_train, X_test, y_test, iter_num=100, alpha=0.25):\n",
    "    W, b = setup_and_init_weights(nn_structure)\n",
    "    cnt = 0\n",
    "    N = len(y_train)\n",
    "    avg_cost_func = []\n",
    "\n",
    "    loss_train_seq = []\n",
    "    loss_test_seq = []\n",
    "    acc_train_seq = []\n",
    "    acc_test_seq = []\n",
    "    train_examples = len(y_train)\n",
    "    test_examples = len(y_test)\n",
    "\n",
    "    print('Starting gradient descent for {} iterations'.format(iter_num))\n",
    "    while cnt < iter_num:\n",
    "        if cnt%1000 == 0:\n",
    "            print('Epoch {} of {}'.format(cnt, iter_num))\n",
    "        tri_W, tri_b = init_tri_values(nn_structure)\n",
    "        avg_cost = 0\n",
    "\n",
    "        loss_train = 0.0\n",
    "        loss_test = 0.0\n",
    "        acc_train = 0.0\n",
    "        acc_test = 0.0\n",
    "\n",
    "\n",
    "        for i in range(N):\n",
    "            delta = {}\n",
    "            # perform the feed forward pass and return the stored a and z values, to be used in the\n",
    "            # gradient descent step\n",
    "            a, z = feed_forward(X_train[i, :], W, b)\n",
    "            # loop from nl-1 to 1 backpropagating the errors\n",
    "            for l in range(len(nn_structure), 0, -1):\n",
    "                if l == len(nn_structure):\n",
    "                    delta[l] = calculate_out_layer_delta(y_train[i,:], a[l], z[l])\n",
    "                    loss_train += np.linalg.norm((y_train[i,:]-a[l]))\n",
    "                    if np.argmax(a[len(nn_structure)]) == np.argmax(y_v_train[i]):\n",
    "                      acc_train += 1.0\n",
    "                else:\n",
    "                    if l > 1:\n",
    "                        delta[l] = calculate_hidden_delta(delta[l+1], W[l], z[l])\n",
    "                    # triW^(l) = triW^(l) + delta^(l+1) * transpose(a^(l))\n",
    "                    tri_W[l] += np.dot(delta[l+1][:,np.newaxis], np.transpose(a[l][:,np.newaxis]))# np.newaxis increase the number of dimensions\n",
    "                    # trib^(l) = trib^(l) + delta^(l+1)\n",
    "                    tri_b[l] += delta[l+1]\n",
    "        # perform the gradient descent step for the weights in each layer\n",
    "        for l in range(len(nn_structure) - 1, 0, -1):\n",
    "            W[l] += -alpha * (1.0/N * tri_W[l])\n",
    "            b[l] += -alpha * (1.0/N * tri_b[l])\n",
    "        \n",
    "        # Test model\n",
    "\n",
    "        # get y prediction\n",
    "        # y_pred = predict_y(W, b, X_test, 3)\n",
    "        \n",
    "        for i in range(test_examples):\n",
    "         \n",
    "            a, z = feed_forward(X_test[i, :], W, b)\n",
    "            # calculate loss\n",
    "            loss_test += np.linalg.norm((y_test[i,:]-a[len(nn_structure)]))\n",
    "            # calculate accuracy\n",
    "            if np.argmax(a[len(nn_structure)]) == np.argmax(y_v_test[i]):\n",
    "                acc_test += 1\n",
    "            \n",
    "        # complete the average cost calculation\n",
    "        loss_train_seq.append(loss_train / train_examples)\n",
    "        loss_test_seq.append(loss_test / test_examples)\n",
    "        acc_train_seq.append(acc_train / train_examples)\n",
    "        acc_test_seq.append(acc_test / test_examples)\n",
    "        cnt += 1\n",
    "    return W, b, (loss_train_seq, loss_test_seq, acc_train_seq, acc_test_seq)\n",
    "\n",
    "\n"
   ],
   "execution_count": 15,
   "outputs": []
  },
  {
   "cell_type": "markdown",
   "metadata": {
    "id": "qhZICXw5_nK9",
    "colab_type": "text"
   },
   "source": [
    "### Running the neural network\n",
    "\n",
    "Our code assumes the size of each layer in our network is held in a list.  The input layer will have 64 neurons (one for each pixel in our 8 by 8 pixelated digit).  Our hidden layer has 30 neurons (you can change this value).  The output layer has 10 neurons.\n",
    "\n",
    "Next we create the python list to hold the number of neurons for each level and then run the neural network code with our training data.\n",
    "\n",
    "This code will take some time..."
   ]
  },
  {
   "cell_type": "code",
   "metadata": {
    "id": "ONeVcKcQ_ikF",
    "colab_type": "code",
    "outputId": "05f6b147-a952-49d1-b2c8-016696b3d688",
    "executionInfo": {
     "status": "ok",
     "timestamp": 1588088369598,
     "user_tz": 240,
     "elapsed": 337735,
     "user": {
      "displayName": "Justin Snider",
      "photoUrl": "https://lh3.googleusercontent.com/a-/AOh14GgxE1rcmEx09dFhwbDiXgGqIR929MsxWPJ8jCZ3=s64",
      "userId": "09386420671436836792"
     }
    },
    "colab": {
     "base_uri": "https://localhost:8080/",
     "height": 119
    }
   },
   "source": [
    "nn_structure = [64, 30, 10]\n",
    "    \n",
    "# train the NN\n",
    "%time W, b, result_cnn_vanilla = train_nn(nn_structure, X_train, y_v_train, X_test, y_v_test, epochs, 0.25)"
   ],
   "execution_count": 16,
   "outputs": [
    {
     "name": "stdout",
     "output_type": "stream",
     "text": [
      "Starting gradient descent for 10 iterations\n",
      "Epoch 0 of 10\n",
      "CPU times: user 1.76 s, sys: 7.23 ms, total: 1.76 s\n",
      "Wall time: 1.76 s\n"
     ]
    }
   ]
  },
  {
   "cell_type": "markdown",
   "metadata": {
    "id": "wtOOhJnM368D",
    "colab_type": "text"
   },
   "source": [
    "### Plotting the learning curve\n"
   ]
  },
  {
   "cell_type": "code",
   "metadata": {
    "id": "7nGeg0cE2Qus",
    "colab_type": "code",
    "colab": {}
   },
   "source": [
    "def plot_results(loss_train_seq, loss_test_seq, acc_train_seq, acc_test_seq, filename):\n",
    "    print('The test set prediction accuracy is {}%'.format(acc_test_seq[-1] * 100))\n",
    "    # import pdb; pdb.set_trace()\n",
    "    source = ColumnDataSource(data={\n",
    "        'epoch'            : range(1, len(loss_test_seq) + 1),\n",
    "        'train_loss'    : loss_train_seq,\n",
    "        'test_loss'        :  loss_test_seq,\n",
    "    })\n",
    "    our_title = filename + ' Loss'\n",
    "    p = figure(title=our_title, plot_width=400, plot_height=400)\n",
    "\n",
    "    p.line(x='epoch', y='train_loss', color='#329fe3', line_alpha=0.8 , line_width=2, legend_label=\"Train\", source=source)\n",
    "    p.line(x='epoch', y='test_loss', color='#e33270', line_alpha=0.8, line_width=2, legend_label=\"Test\", source=source)\n",
    "    p.legend.location = \"top_right\"\n",
    "    p.xaxis.axis_label = 'Epochs'\n",
    "    p.yaxis.axis_label = 'Loss' \n",
    "\n",
    "    p.add_tools(HoverTool(\n",
    "        tooltips=[\n",
    "                  ('Epochs', '@epoch{int}'),\n",
    "                  ('Training Loss', '@train_loss{0.000 a}'),\n",
    "                  ('Test Loss', '@test_loss{0.000 a}'),\n",
    "        ],\n",
    "\n",
    "        mode='mouse'\n",
    "    ))\n",
    "    fullname = \"results/\" + filename + \"-loss.html\"\n",
    "    output_file(fullname)\n",
    "    save(p)\n",
    "\n",
    "    source = ColumnDataSource(data={\n",
    "        'epoch'            : range(1, len(acc_train_seq) + 1),\n",
    "        'train_acc'    : np.array(acc_train_seq),\n",
    "        'test_acc'        :  np.array(acc_test_seq),\n",
    "    })\n",
    "\n",
    "    our_title = filename + ' Accuracy'\n",
    "    p = figure(title=our_title, plot_width=400, plot_height=400)\n",
    "\n",
    "    p.line(x='epoch', y='train_acc', color='#329fe3', line_alpha=0.8 , line_width=2, legend_label=\"Train\", source=source)\n",
    "    p.line(x='epoch', y='test_acc', color='#e33270', line_alpha=0.8, line_width=2, legend_label=\"Test\", source=source)\n",
    "    p.legend.location = \"bottom_right\"\n",
    "    p.xaxis.axis_label = 'Epochs'\n",
    "    p.yaxis.axis_label = 'Accuracy' \n",
    "    p.yaxis.formatter = NumeralTickFormatter(format='0 %')\n",
    "\n",
    "    p.add_tools(HoverTool(\n",
    "        tooltips=[\n",
    "                  ('Epochs', '@epoch{int}'),\n",
    "                  ('Training Accuracy', '@{train_acc}{%0.2f}'),\n",
    "                  ('Test Accuracy', '@{test_acc}{%0.2f}'),\n",
    "        ],\n",
    "\n",
    "        mode='mouse'\n",
    "    ))\n",
    "    fullname = \"results/\" + filename + \"-accuracy.html\"\n",
    "    output_file(fullname)\n",
    "    save(p)"
   ],
   "execution_count": 41,
   "outputs": []
  },
  {
   "cell_type": "code",
   "metadata": {
    "id": "jLz1rtxIxbvA",
    "colab_type": "code",
    "outputId": "f811f7eb-5cc6-4aa3-f218-9602aea5a09a",
    "executionInfo": {
     "status": "ok",
     "timestamp": 1588088369894,
     "user_tz": 240,
     "elapsed": 338018,
     "user": {
      "displayName": "Justin Snider",
      "photoUrl": "https://lh3.googleusercontent.com/a-/AOh14GgxE1rcmEx09dFhwbDiXgGqIR929MsxWPJ8jCZ3=s64",
      "userId": "09386420671436836792"
     }
    },
    "colab": {
     "base_uri": "https://localhost:8080/",
     "height": 834
    }
   },
   "source": [
    "loss_train_seq, loss_test_seq, acc_train_seq, acc_test_seq = result_cnn_vanilla\n",
    "\n",
    "plot_results(loss_train_seq, loss_test_seq, acc_train_seq, acc_test_seq, \"Baseline\")\n"
   ],
   "execution_count": 42,
   "outputs": [
    {
     "name": "stdout",
     "output_type": "stream",
     "text": [
      "The test set prediction accuracy is 8.484005563282336%\n"
     ]
    }
   ]
  },
  {
   "cell_type": "markdown",
   "metadata": {
    "id": "Sivcr26eLSK-",
    "colab_type": "text"
   },
   "source": [
    "### 6) End of Part A\n",
    "\n",
    "Let us see if we can make an improvement using an extension. "
   ]
  },
  {
   "cell_type": "markdown",
   "metadata": {
    "id": "83ceKoqpNHrt",
    "colab_type": "text"
   },
   "source": [
    "## Part ( ii ) // Convolutional Neural Network Extension Using Library on Dataset II"
   ]
  },
  {
   "cell_type": "markdown",
   "metadata": {
    "id": "oJeB3ZRNO32A",
    "colab_type": "text"
   },
   "source": [
    "We will be using the function:\n",
    "\n",
    "**torch.nn.Conv2d**(in_channels, out_channels, kernel_size, stride, padding) – applies convolution\n",
    "\n",
    "The function applies a 2D convolution over an input signal composed of several input planes. \n",
    "\n",
    "In the simplext case, the output values of the layer with input size \n",
    "$ (N,C_{in},H,W) $ and output $(N,C_{out},H_{out},W_{out})$ can be precesely described as: \n",
    "\n",
    "$$ out(N_i,C_{out_j}=bias(C_{out_j})+\\Sigma^{C_{in}-1}_{k=0} weight(C_{out_j},k)\\star input(N_i,k)$$\n",
    "\n",
    "were $\\star$ is the valid 2D cross-correlation operator, $N$ is the batch size, $C$ denotes a number of channels, $H$ is a height of input planes in pixels, and $W$ is width in pixels. \n",
    "\n",
    "The documentation is online [here](https://pytorch.org/docs/stable/nn.html#conv2d).\n"
   ]
  },
  {
   "cell_type": "markdown",
   "metadata": {
    "id": "jUeYtNC_H6dl",
    "colab_type": "text"
   },
   "source": [
    "### 1) First, we import the library including torch"
   ]
  },
  {
   "cell_type": "code",
   "metadata": {
    "id": "qvYaZvW9_yn8",
    "colab_type": "code",
    "colab": {}
   },
   "source": [
    "# Import modules\n",
    "import torch\n",
    "import numpy as np\n",
    "import torch.nn.functional as F\n",
    "from torch import nn\n",
    "from torch import optim\n",
    "from torch.utils.data import Dataset, DataLoader\n",
    "from sklearn.datasets import load_digits # The MNIST data set is in scikit learn data set\n",
    "from sklearn.preprocessing import StandardScaler  # It is important in neural networks to scale the date\n",
    "from sklearn.model_selection import train_test_split  # The standard - train/test to prevent overfitting and choose hyperparameters\n",
    "from bokeh.plotting import figure, output_file, show, save\n",
    "from bokeh.models import ColumnDataSource, HoverTool\n",
    "from bokeh.io import output_notebook\n",
    "output_notebook()\n"
   ],
   "execution_count": 30,
   "outputs": [
    {
     "data": {
      "text/html": "\n    <div class=\"bk-root\">\n        <a href=\"https://bokeh.org\" target=\"_blank\" class=\"bk-logo bk-logo-small bk-logo-notebook\"></a>\n        <span id=\"1696\">Loading BokehJS ...</span>\n    </div>"
     },
     "metadata": {},
     "output_type": "display_data"
    },
    {
     "data": {
      "application/javascript": "\n(function(root) {\n  function now() {\n    return new Date();\n  }\n\n  var force = true;\n\n  if (typeof root._bokeh_onload_callbacks === \"undefined\" || force === true) {\n    root._bokeh_onload_callbacks = [];\n    root._bokeh_is_loading = undefined;\n  }\n\n  var JS_MIME_TYPE = 'application/javascript';\n  var HTML_MIME_TYPE = 'text/html';\n  var EXEC_MIME_TYPE = 'application/vnd.bokehjs_exec.v0+json';\n  var CLASS_NAME = 'output_bokeh rendered_html';\n\n  /**\n   * Render data to the DOM node\n   */\n  function render(props, node) {\n    var script = document.createElement(\"script\");\n    node.appendChild(script);\n  }\n\n  /**\n   * Handle when an output is cleared or removed\n   */\n  function handleClearOutput(event, handle) {\n    var cell = handle.cell;\n\n    var id = cell.output_area._bokeh_element_id;\n    var server_id = cell.output_area._bokeh_server_id;\n    // Clean up Bokeh references\n    if (id != null && id in Bokeh.index) {\n      Bokeh.index[id].model.document.clear();\n      delete Bokeh.index[id];\n    }\n\n    if (server_id !== undefined) {\n      // Clean up Bokeh references\n      var cmd = \"from bokeh.io.state import curstate; print(curstate().uuid_to_server['\" + server_id + \"'].get_sessions()[0].document.roots[0]._id)\";\n      cell.notebook.kernel.execute(cmd, {\n        iopub: {\n          output: function(msg) {\n            var id = msg.content.text.trim();\n            if (id in Bokeh.index) {\n              Bokeh.index[id].model.document.clear();\n              delete Bokeh.index[id];\n            }\n          }\n        }\n      });\n      // Destroy server and session\n      var cmd = \"import bokeh.io.notebook as ion; ion.destroy_server('\" + server_id + \"')\";\n      cell.notebook.kernel.execute(cmd);\n    }\n  }\n\n  /**\n   * Handle when a new output is added\n   */\n  function handleAddOutput(event, handle) {\n    var output_area = handle.output_area;\n    var output = handle.output;\n\n    // limit handleAddOutput to display_data with EXEC_MIME_TYPE content only\n    if ((output.output_type != \"display_data\") || (!output.data.hasOwnProperty(EXEC_MIME_TYPE))) {\n      return\n    }\n\n    var toinsert = output_area.element.find(\".\" + CLASS_NAME.split(' ')[0]);\n\n    if (output.metadata[EXEC_MIME_TYPE][\"id\"] !== undefined) {\n      toinsert[toinsert.length - 1].firstChild.textContent = output.data[JS_MIME_TYPE];\n      // store reference to embed id on output_area\n      output_area._bokeh_element_id = output.metadata[EXEC_MIME_TYPE][\"id\"];\n    }\n    if (output.metadata[EXEC_MIME_TYPE][\"server_id\"] !== undefined) {\n      var bk_div = document.createElement(\"div\");\n      bk_div.innerHTML = output.data[HTML_MIME_TYPE];\n      var script_attrs = bk_div.children[0].attributes;\n      for (var i = 0; i < script_attrs.length; i++) {\n        toinsert[toinsert.length - 1].firstChild.setAttribute(script_attrs[i].name, script_attrs[i].value);\n        toinsert[toinsert.length - 1].firstChild.textContent = bk_div.children[0].textContent\n      }\n      // store reference to server id on output_area\n      output_area._bokeh_server_id = output.metadata[EXEC_MIME_TYPE][\"server_id\"];\n    }\n  }\n\n  function register_renderer(events, OutputArea) {\n\n    function append_mime(data, metadata, element) {\n      // create a DOM node to render to\n      var toinsert = this.create_output_subarea(\n        metadata,\n        CLASS_NAME,\n        EXEC_MIME_TYPE\n      );\n      this.keyboard_manager.register_events(toinsert);\n      // Render to node\n      var props = {data: data, metadata: metadata[EXEC_MIME_TYPE]};\n      render(props, toinsert[toinsert.length - 1]);\n      element.append(toinsert);\n      return toinsert\n    }\n\n    /* Handle when an output is cleared or removed */\n    events.on('clear_output.CodeCell', handleClearOutput);\n    events.on('delete.Cell', handleClearOutput);\n\n    /* Handle when a new output is added */\n    events.on('output_added.OutputArea', handleAddOutput);\n\n    /**\n     * Register the mime type and append_mime function with output_area\n     */\n    OutputArea.prototype.register_mime_type(EXEC_MIME_TYPE, append_mime, {\n      /* Is output safe? */\n      safe: true,\n      /* Index of renderer in `output_area.display_order` */\n      index: 0\n    });\n  }\n\n  // register the mime type if in Jupyter Notebook environment and previously unregistered\n  if (root.Jupyter !== undefined) {\n    var events = require('base/js/events');\n    var OutputArea = require('notebook/js/outputarea').OutputArea;\n\n    if (OutputArea.prototype.mime_types().indexOf(EXEC_MIME_TYPE) == -1) {\n      register_renderer(events, OutputArea);\n    }\n  }\n\n  \n  if (typeof (root._bokeh_timeout) === \"undefined\" || force === true) {\n    root._bokeh_timeout = Date.now() + 5000;\n    root._bokeh_failed_load = false;\n  }\n\n  var NB_LOAD_WARNING = {'data': {'text/html':\n     \"<div style='background-color: #fdd'>\\n\"+\n     \"<p>\\n\"+\n     \"BokehJS does not appear to have successfully loaded. If loading BokehJS from CDN, this \\n\"+\n     \"may be due to a slow or bad network connection. Possible fixes:\\n\"+\n     \"</p>\\n\"+\n     \"<ul>\\n\"+\n     \"<li>re-rerun `output_notebook()` to attempt to load from CDN again, or</li>\\n\"+\n     \"<li>use INLINE resources instead, as so:</li>\\n\"+\n     \"</ul>\\n\"+\n     \"<code>\\n\"+\n     \"from bokeh.resources import INLINE\\n\"+\n     \"output_notebook(resources=INLINE)\\n\"+\n     \"</code>\\n\"+\n     \"</div>\"}};\n\n  function display_loaded() {\n    var el = document.getElementById(\"1696\");\n    if (el != null) {\n      el.textContent = \"BokehJS is loading...\";\n    }\n    if (root.Bokeh !== undefined) {\n      if (el != null) {\n        el.textContent = \"BokehJS \" + root.Bokeh.version + \" successfully loaded.\";\n      }\n    } else if (Date.now() < root._bokeh_timeout) {\n      setTimeout(display_loaded, 100)\n    }\n  }\n\n\n  function run_callbacks() {\n    try {\n      root._bokeh_onload_callbacks.forEach(function(callback) {\n        if (callback != null)\n          callback();\n      });\n    } finally {\n      delete root._bokeh_onload_callbacks\n    }\n    console.debug(\"Bokeh: all callbacks have finished\");\n  }\n\n  function load_libs(css_urls, js_urls, callback) {\n    if (css_urls == null) css_urls = [];\n    if (js_urls == null) js_urls = [];\n\n    root._bokeh_onload_callbacks.push(callback);\n    if (root._bokeh_is_loading > 0) {\n      console.debug(\"Bokeh: BokehJS is being loaded, scheduling callback at\", now());\n      return null;\n    }\n    if (js_urls == null || js_urls.length === 0) {\n      run_callbacks();\n      return null;\n    }\n    console.debug(\"Bokeh: BokehJS not loaded, scheduling load and callback at\", now());\n    root._bokeh_is_loading = css_urls.length + js_urls.length;\n\n    function on_load() {\n      root._bokeh_is_loading--;\n      if (root._bokeh_is_loading === 0) {\n        console.debug(\"Bokeh: all BokehJS libraries/stylesheets loaded\");\n        run_callbacks()\n      }\n    }\n\n    function on_error() {\n      console.error(\"failed to load \" + url);\n    }\n\n    for (var i = 0; i < css_urls.length; i++) {\n      var url = css_urls[i];\n      const element = document.createElement(\"link\");\n      element.onload = on_load;\n      element.onerror = on_error;\n      element.rel = \"stylesheet\";\n      element.type = \"text/css\";\n      element.href = url;\n      console.debug(\"Bokeh: injecting link tag for BokehJS stylesheet: \", url);\n      document.body.appendChild(element);\n    }\n\n    const hashes = {\"https://cdn.bokeh.org/bokeh/release/bokeh-2.0.1.min.js\": \"JpP8FXbgAZLkfur7LiK3j9AGBhHNIvF742meBJrjO2ShJDhCG2I1uVvW+0DUtrmc\", \"https://cdn.bokeh.org/bokeh/release/bokeh-widgets-2.0.1.min.js\": \"xZlADit0Q04ISQEdKg2k3L4W9AwQBAuDs9nJL9fM/WwzL1tEU9VPNezOFX0nLEAz\", \"https://cdn.bokeh.org/bokeh/release/bokeh-tables-2.0.1.min.js\": \"4BuPRZkdMKSnj3zoxiNrQ86XgNw0rYmBOxe7nshquXwwcauupgBF2DHLVG1WuZlV\", \"https://cdn.bokeh.org/bokeh/release/bokeh-gl-2.0.1.min.js\": \"Dv1SQ87hmDqK6S5OhBf0bCuwAEvL5QYL0PuR/F1SPVhCS/r/abjkbpKDYL2zeM19\"};\n\n    for (var i = 0; i < js_urls.length; i++) {\n      var url = js_urls[i];\n      var element = document.createElement('script');\n      element.onload = on_load;\n      element.onerror = on_error;\n      element.async = false;\n      element.src = url;\n      if (url in hashes) {\n        element.crossOrigin = \"anonymous\";\n        element.integrity = \"sha384-\" + hashes[url];\n      }\n      console.debug(\"Bokeh: injecting script tag for BokehJS library: \", url);\n      document.head.appendChild(element);\n    }\n  };var element = document.getElementById(\"1696\");\n  if (element == null) {\n    console.error(\"Bokeh: ERROR: autoload.js configured with elementid '1696' but no matching script tag was found. \")\n    return false;\n  }\n\n  function inject_raw_css(css) {\n    const element = document.createElement(\"style\");\n    element.appendChild(document.createTextNode(css));\n    document.body.appendChild(element);\n  }\n\n  \n  var js_urls = [\"https://cdn.bokeh.org/bokeh/release/bokeh-2.0.1.min.js\", \"https://cdn.bokeh.org/bokeh/release/bokeh-widgets-2.0.1.min.js\", \"https://cdn.bokeh.org/bokeh/release/bokeh-tables-2.0.1.min.js\", \"https://cdn.bokeh.org/bokeh/release/bokeh-gl-2.0.1.min.js\"];\n  var css_urls = [];\n  \n\n  var inline_js = [\n    function(Bokeh) {\n      Bokeh.set_log_level(\"info\");\n    },\n    function(Bokeh) {\n    \n    \n    }\n  ];\n\n  function run_inline_js() {\n    \n    if (root.Bokeh !== undefined || force === true) {\n      \n    for (var i = 0; i < inline_js.length; i++) {\n      inline_js[i].call(root, root.Bokeh);\n    }\n    if (force === true) {\n        display_loaded();\n      }} else if (Date.now() < root._bokeh_timeout) {\n      setTimeout(run_inline_js, 100);\n    } else if (!root._bokeh_failed_load) {\n      console.log(\"Bokeh: BokehJS failed to load within specified timeout.\");\n      root._bokeh_failed_load = true;\n    } else if (force !== true) {\n      var cell = $(document.getElementById(\"1696\")).parents('.cell').data().cell;\n      cell.output_area.append_execute_result(NB_LOAD_WARNING)\n    }\n\n  }\n\n  if (root._bokeh_is_loading === 0) {\n    console.debug(\"Bokeh: BokehJS loaded, going straight to plotting\");\n    run_inline_js();\n  } else {\n    load_libs(css_urls, js_urls, function() {\n      console.debug(\"Bokeh: BokehJS plotting callback run at\", now());\n      run_inline_js();\n    });\n  }\n}(window));",
      "application/vnd.bokehjs_load.v0+json": "\n(function(root) {\n  function now() {\n    return new Date();\n  }\n\n  var force = true;\n\n  if (typeof root._bokeh_onload_callbacks === \"undefined\" || force === true) {\n    root._bokeh_onload_callbacks = [];\n    root._bokeh_is_loading = undefined;\n  }\n\n  \n\n  \n  if (typeof (root._bokeh_timeout) === \"undefined\" || force === true) {\n    root._bokeh_timeout = Date.now() + 5000;\n    root._bokeh_failed_load = false;\n  }\n\n  var NB_LOAD_WARNING = {'data': {'text/html':\n     \"<div style='background-color: #fdd'>\\n\"+\n     \"<p>\\n\"+\n     \"BokehJS does not appear to have successfully loaded. If loading BokehJS from CDN, this \\n\"+\n     \"may be due to a slow or bad network connection. Possible fixes:\\n\"+\n     \"</p>\\n\"+\n     \"<ul>\\n\"+\n     \"<li>re-rerun `output_notebook()` to attempt to load from CDN again, or</li>\\n\"+\n     \"<li>use INLINE resources instead, as so:</li>\\n\"+\n     \"</ul>\\n\"+\n     \"<code>\\n\"+\n     \"from bokeh.resources import INLINE\\n\"+\n     \"output_notebook(resources=INLINE)\\n\"+\n     \"</code>\\n\"+\n     \"</div>\"}};\n\n  function display_loaded() {\n    var el = document.getElementById(\"1696\");\n    if (el != null) {\n      el.textContent = \"BokehJS is loading...\";\n    }\n    if (root.Bokeh !== undefined) {\n      if (el != null) {\n        el.textContent = \"BokehJS \" + root.Bokeh.version + \" successfully loaded.\";\n      }\n    } else if (Date.now() < root._bokeh_timeout) {\n      setTimeout(display_loaded, 100)\n    }\n  }\n\n\n  function run_callbacks() {\n    try {\n      root._bokeh_onload_callbacks.forEach(function(callback) {\n        if (callback != null)\n          callback();\n      });\n    } finally {\n      delete root._bokeh_onload_callbacks\n    }\n    console.debug(\"Bokeh: all callbacks have finished\");\n  }\n\n  function load_libs(css_urls, js_urls, callback) {\n    if (css_urls == null) css_urls = [];\n    if (js_urls == null) js_urls = [];\n\n    root._bokeh_onload_callbacks.push(callback);\n    if (root._bokeh_is_loading > 0) {\n      console.debug(\"Bokeh: BokehJS is being loaded, scheduling callback at\", now());\n      return null;\n    }\n    if (js_urls == null || js_urls.length === 0) {\n      run_callbacks();\n      return null;\n    }\n    console.debug(\"Bokeh: BokehJS not loaded, scheduling load and callback at\", now());\n    root._bokeh_is_loading = css_urls.length + js_urls.length;\n\n    function on_load() {\n      root._bokeh_is_loading--;\n      if (root._bokeh_is_loading === 0) {\n        console.debug(\"Bokeh: all BokehJS libraries/stylesheets loaded\");\n        run_callbacks()\n      }\n    }\n\n    function on_error() {\n      console.error(\"failed to load \" + url);\n    }\n\n    for (var i = 0; i < css_urls.length; i++) {\n      var url = css_urls[i];\n      const element = document.createElement(\"link\");\n      element.onload = on_load;\n      element.onerror = on_error;\n      element.rel = \"stylesheet\";\n      element.type = \"text/css\";\n      element.href = url;\n      console.debug(\"Bokeh: injecting link tag for BokehJS stylesheet: \", url);\n      document.body.appendChild(element);\n    }\n\n    const hashes = {\"https://cdn.bokeh.org/bokeh/release/bokeh-2.0.1.min.js\": \"JpP8FXbgAZLkfur7LiK3j9AGBhHNIvF742meBJrjO2ShJDhCG2I1uVvW+0DUtrmc\", \"https://cdn.bokeh.org/bokeh/release/bokeh-widgets-2.0.1.min.js\": \"xZlADit0Q04ISQEdKg2k3L4W9AwQBAuDs9nJL9fM/WwzL1tEU9VPNezOFX0nLEAz\", \"https://cdn.bokeh.org/bokeh/release/bokeh-tables-2.0.1.min.js\": \"4BuPRZkdMKSnj3zoxiNrQ86XgNw0rYmBOxe7nshquXwwcauupgBF2DHLVG1WuZlV\", \"https://cdn.bokeh.org/bokeh/release/bokeh-gl-2.0.1.min.js\": \"Dv1SQ87hmDqK6S5OhBf0bCuwAEvL5QYL0PuR/F1SPVhCS/r/abjkbpKDYL2zeM19\"};\n\n    for (var i = 0; i < js_urls.length; i++) {\n      var url = js_urls[i];\n      var element = document.createElement('script');\n      element.onload = on_load;\n      element.onerror = on_error;\n      element.async = false;\n      element.src = url;\n      if (url in hashes) {\n        element.crossOrigin = \"anonymous\";\n        element.integrity = \"sha384-\" + hashes[url];\n      }\n      console.debug(\"Bokeh: injecting script tag for BokehJS library: \", url);\n      document.head.appendChild(element);\n    }\n  };var element = document.getElementById(\"1696\");\n  if (element == null) {\n    console.error(\"Bokeh: ERROR: autoload.js configured with elementid '1696' but no matching script tag was found. \")\n    return false;\n  }\n\n  function inject_raw_css(css) {\n    const element = document.createElement(\"style\");\n    element.appendChild(document.createTextNode(css));\n    document.body.appendChild(element);\n  }\n\n  \n  var js_urls = [\"https://cdn.bokeh.org/bokeh/release/bokeh-2.0.1.min.js\", \"https://cdn.bokeh.org/bokeh/release/bokeh-widgets-2.0.1.min.js\", \"https://cdn.bokeh.org/bokeh/release/bokeh-tables-2.0.1.min.js\", \"https://cdn.bokeh.org/bokeh/release/bokeh-gl-2.0.1.min.js\"];\n  var css_urls = [];\n  \n\n  var inline_js = [\n    function(Bokeh) {\n      Bokeh.set_log_level(\"info\");\n    },\n    function(Bokeh) {\n    \n    \n    }\n  ];\n\n  function run_inline_js() {\n    \n    if (root.Bokeh !== undefined || force === true) {\n      \n    for (var i = 0; i < inline_js.length; i++) {\n      inline_js[i].call(root, root.Bokeh);\n    }\n    if (force === true) {\n        display_loaded();\n      }} else if (Date.now() < root._bokeh_timeout) {\n      setTimeout(run_inline_js, 100);\n    } else if (!root._bokeh_failed_load) {\n      console.log(\"Bokeh: BokehJS failed to load within specified timeout.\");\n      root._bokeh_failed_load = true;\n    } else if (force !== true) {\n      var cell = $(document.getElementById(\"1696\")).parents('.cell').data().cell;\n      cell.output_area.append_execute_result(NB_LOAD_WARNING)\n    }\n\n  }\n\n  if (root._bokeh_is_loading === 0) {\n    console.debug(\"Bokeh: BokehJS loaded, going straight to plotting\");\n    run_inline_js();\n  } else {\n    load_libs(css_urls, js_urls, function() {\n      console.debug(\"Bokeh: BokehJS plotting callback run at\", now());\n      run_inline_js();\n    });\n  }\n}(window));"
     },
     "metadata": {},
     "output_type": "display_data"
    }
   ]
  },
  {
   "cell_type": "markdown",
   "metadata": {
    "id": "_8kWe8hoJOBY",
    "colab_type": "text"
   },
   "source": [
    "### 2) Create a custom Dataset class to manage the creation, incrementing, formatting, and calling of items. "
   ]
  },
  {
   "cell_type": "code",
   "metadata": {
    "id": "wZDM-_mzHxov",
    "colab_type": "code",
    "colab": {}
   },
   "source": [
    "\n",
    "class MNISTDataset(Dataset):\n",
    "    def __init__(self, data, label):\n",
    "        self.data = data.reshape((-1,8,8,1))\n",
    "        self.label = label\n",
    "\n",
    "    def __len__(self):\n",
    "        return len(self.label)\n",
    "\n",
    "    def __getitem__(self, item):\n",
    "\n",
    "        # swap color axis because\n",
    "        # numpy image: H x W x C\n",
    "        # torch image: C X H X W\n",
    "        image = self.data[item].transpose((2, 0, 1))\n",
    "        image = torch.from_numpy(image)\n",
    "        target = self.label[item]\n",
    "        target = torch.from_numpy(target)\n",
    "        return (image, target)"
   ],
   "execution_count": 20,
   "outputs": []
  },
  {
   "cell_type": "markdown",
   "metadata": {
    "id": "MQlT5AuoJ62W",
    "colab_type": "text"
   },
   "source": [
    "### 3) Create a child class of the nn.Module. This will establish the functional architecture of our neural network model. "
   ]
  },
  {
   "cell_type": "code",
   "metadata": {
    "id": "XqObuBvyJ5DL",
    "colab_type": "code",
    "colab": {}
   },
   "source": [
    "\n",
    "class MNIST(nn.Module):\n",
    "\n",
    "    # Our batch shape for input x is (1, 8, 8)\n",
    "\n",
    "    def __init__(self):\n",
    "        super(MNIST, self).__init__()\n",
    "\n",
    "        # Input channels = 1, output channels = 18\n",
    "        self.conv1 = torch.nn.Conv2d(1, 18, kernel_size=3, stride=1, padding=1)\n",
    "        # self.pool = torch.nn.MaxPool2d(kernel_size=2, stride=2, padding=0)\n",
    "\n",
    "        self.fc1 = nn.Linear(18 * 8 * 8, 64)\n",
    "        self.fc2 = nn.Linear(64, 10)\n",
    "\n",
    "    def forward(self, x):\n",
    "\n",
    "        # Activation of the first convolution\n",
    "        # Size changes from (1, 8, 8) to (18, 8, 8)\n",
    "        x = F.relu(self.conv1(x))\n",
    "\n",
    "        # x = self.pool(x)\n",
    "\n",
    "        # Reshape data to input to the input layer of the neural net\n",
    "        # Size changes from (18, 16, 16) to (1, 1152)\n",
    "        x = x.view(-1, 18 * 8 * 8)\n",
    "\n",
    "        # Computes the activation of the first fully connected layer\n",
    "        # Size changes from (1, 1152) to (1, 64)\n",
    "        x = torch.sigmoid(self.fc1(x))\n",
    "\n",
    "        x = self.fc2(x)\n",
    "        x = F.log_softmax(x, dim=1)\n",
    "\n",
    "        return x\n"
   ],
   "execution_count": 21,
   "outputs": []
  },
  {
   "cell_type": "markdown",
   "metadata": {
    "id": "VnZJE9pELNuB",
    "colab_type": "text"
   },
   "source": [
    "### 4) We will need a helper function to check the accuracy of our model's predictions. "
   ]
  },
  {
   "cell_type": "code",
   "metadata": {
    "id": "2eBCUJEVLNYh",
    "colab_type": "code",
    "colab": {}
   },
   "source": [
    "def scorecard(output, labels):\n",
    "    score = 0\n",
    "    score = np.where(np.argmax(output, axis=1) == np.argmax(labels, axis=1), 1, 0)\n",
    "    # for i in range(len(output)):\n",
    "    #     if np.argmax(output[i,:], axis=1) == np.argmax(labels[i,:], axis=1):\n",
    "    #         score += 1\n",
    "    score = np.sum(score)\n",
    "    return score"
   ],
   "execution_count": 22,
   "outputs": []
  },
  {
   "cell_type": "markdown",
   "metadata": {
    "id": "LFxwWovtLzvH",
    "colab_type": "text"
   },
   "source": [
    "### 5) Define the training function"
   ]
  },
  {
   "cell_type": "code",
   "metadata": {
    "id": "FKPMZAACKtff",
    "colab_type": "code",
    "colab": {}
   },
   "source": [
    "\n",
    "def trainModel(model, batch_size, num_epochs, learning_rate):\n",
    "    print(\"===== HYPERPARAMETERS =====\")\n",
    "    print(\"batch_size=\", batch_size)\n",
    "    print(\"epochs=\", num_epochs)\n",
    "    print(\"learning_rate=\", learning_rate)\n",
    "    print(\"=\" * 30)\n",
    "\n",
    "    digits = load_digits()\n",
    "    X = digits.data\n",
    "    y = digits.target\n",
    "\n",
    "    X_scale = StandardScaler()\n",
    "    X = X_scale.fit_transform(digits.data)\n",
    "\n",
    "    # Split the data into training and test set.  60% training and %40 test\n",
    "    X_train, X_test, y_train, y_test = train_test_split(X, y, test_size=0.4)\n",
    "\n",
    "    def convert_y_to_vect(y):\n",
    "        y_vect = np.zeros((len(y), 10))\n",
    "        for i in range(len(y)):\n",
    "            y_vect[i, y[i]] = 1\n",
    "        return y_vect\n",
    "\n",
    "    # convert digits to vectors\n",
    "    y_v_train = convert_y_to_vect(y_train)\n",
    "    y_v_test = convert_y_to_vect(y_test)\n",
    "\n",
    "    train_dataset = MNISTDataset(X_train, y_v_train)\n",
    "    test_dataset = MNISTDataset(X_test, y_v_test)\n",
    "\n",
    "    train_loader = DataLoader(train_dataset, batch_size=batch_size, shuffle=False)\n",
    "    test_loader = DataLoader(test_dataset, batch_size=batch_size, shuffle=False)\n",
    "\n",
    "    torch.manual_seed(0)\n",
    "    torch.backends.cudnn.deterministic = True\n",
    "    torch.backends.cudnn.benchmark = False\n",
    "    np.random.seed(0)\n",
    "    mean, std = (0.5,), (0.5,)\n",
    "\n",
    "    criterion = nn.MSELoss()\n",
    "    optimizer = optim.SGD(model.parameters(), lr=learning_rate)\n",
    "\n",
    "    model = model.double()\n",
    "\n",
    "    loss_train_seq = []\n",
    "    loss_test_seq = []\n",
    "    acc_train_seq = []\n",
    "    acc_test_seq = []\n",
    "\n",
    "    for i in range(num_epochs):\n",
    "        loss_train = 0.0\n",
    "        loss_test = 0.0\n",
    "        acc_train = 0.0\n",
    "        acc_test = 0.0\n",
    "        train_examples = 0\n",
    "        test_examples = 0\n",
    "\n",
    "        for j, (images, labels) in enumerate(train_loader, 0):\n",
    "            optimizer.zero_grad()\n",
    "            output = model(images)\n",
    "            loss = criterion(output, labels)\n",
    "            acc_train += scorecard(output.detach().numpy(), labels.detach().numpy())\n",
    "            train_examples += len(labels)\n",
    "            loss_train += loss.detach().numpy()\n",
    "            loss.backward()\n",
    "            optimizer.step()\n",
    "\n",
    "\n",
    "        for images, labels in test_loader:\n",
    "\n",
    "            with torch.no_grad():\n",
    "                output = model(images)\n",
    "\n",
    "                loss = criterion(output, labels)\n",
    "                loss_test += loss.detach().numpy()\n",
    "                acc_test += scorecard(output.detach().numpy(), labels.detach().numpy())\n",
    "                test_examples += len(labels)\n",
    "        loss_train_seq.append(loss_train / train_examples)\n",
    "        loss_test_seq.append(loss_test / test_examples)\n",
    "        acc_train_seq.append(acc_train / train_examples)\n",
    "        acc_test_seq.append(acc_test / test_examples)\n",
    "        print('Epoch {} with test loss {} and test accuracy {}\\n\\n'.format(i, (loss_test / test_examples),(acc_test / test_examples) ))\n",
    "\n",
    "    return (loss_train_seq, loss_test_seq, acc_train_seq, acc_test_seq)\n"
   ],
   "execution_count": 23,
   "outputs": []
  },
  {
   "cell_type": "markdown",
   "metadata": {
    "id": "EyFv2U-uMFUK",
    "colab_type": "text"
   },
   "source": [
    "### 6) Set the hyperparameters, create the model, and train the model"
   ]
  },
  {
   "cell_type": "code",
   "metadata": {
    "id": "zfkF5mNAMCI9",
    "colab_type": "code",
    "outputId": "5b6b3cb9-36b1-4062-a9ea-558cb45894af",
    "executionInfo": {
     "status": "ok",
     "timestamp": 1588093093453,
     "user_tz": 240,
     "elapsed": 5061551,
     "user": {
      "displayName": "Justin Snider",
      "photoUrl": "https://lh3.googleusercontent.com/a-/AOh14GgxE1rcmEx09dFhwbDiXgGqIR929MsxWPJ8jCZ3=s64",
      "userId": "09386420671436836792"
     }
    },
    "colab": {
     "base_uri": "https://localhost:8080/",
     "height": 1000
    }
   },
   "source": [
    "batch_size = 1\n",
    "learning_rate = 0.01\n",
    "num_epochs = epochs\n",
    "\n",
    "model = MNIST()\n",
    "\n",
    "%time result_cnn_pytorch = trainModel(model, batch_size, num_epochs, learning_rate)\n",
    "loss_train_seq, loss_test_seq, acc_train_seq, acc_test_seq = result_cnn_pytorch"
   ],
   "execution_count": 24,
   "outputs": [
    {
     "name": "stdout",
     "output_type": "stream",
     "text": [
      "===== HYPERPARAMETERS =====\n",
      "batch_size= 1\n",
      "epochs= 10\n",
      "learning_rate= 0.01\n",
      "==============================\n",
      "Epoch 0 with test loss 5.851180906071008 and test accuracy 0.7872044506258693\n",
      "\n",
      "\n",
      "Epoch 1 with test loss 5.848346076357665 and test accuracy 0.8803894297635605\n",
      "\n",
      "\n",
      "Epoch 2 with test loss 5.847077340008874 and test accuracy 0.9207232267037552\n",
      "\n",
      "\n",
      "Epoch 3 with test loss 5.846266286179737 and test accuracy 0.9388038942976356\n",
      "\n",
      "\n",
      "Epoch 4 with test loss 5.845681782625536 and test accuracy 0.952712100139082\n",
      "\n",
      "\n",
      "Epoch 5 with test loss 5.845237252079421 and test accuracy 0.9554937413073713\n",
      "\n",
      "\n",
      "Epoch 6 with test loss 5.844886144779089 and test accuracy 0.9568845618915159\n",
      "\n",
      "\n",
      "Epoch 7 with test loss 5.844600254664653 and test accuracy 0.9638386648122392\n",
      "\n",
      "\n",
      "Epoch 8 with test loss 5.84436146199944 and test accuracy 0.9652294853963839\n",
      "\n",
      "\n",
      "Epoch 9 with test loss 5.844158008753793 and test accuracy 0.9666203059805285\n",
      "\n",
      "\n",
      "CPU times: user 2min 49s, sys: 16.9 s, total: 3min 6s\n",
      "Wall time: 30.8 s\n"
     ]
    }
   ]
  },
  {
   "cell_type": "markdown",
   "metadata": {
    "id": "TE_bk9fRNJQY",
    "colab_type": "text"
   },
   "source": [
    "### 7) Visualize the results"
   ]
  },
  {
   "cell_type": "code",
   "metadata": {
    "id": "48HvLwtdMU_P",
    "colab_type": "code",
    "outputId": "ac7a60d1-c10a-4305-d3ef-a9dbbaaa96cd",
    "executionInfo": {
     "status": "ok",
     "timestamp": 1588093093776,
     "user_tz": 240,
     "elapsed": 5061864,
     "user": {
      "displayName": "Justin Snider",
      "photoUrl": "https://lh3.googleusercontent.com/a-/AOh14GgxE1rcmEx09dFhwbDiXgGqIR929MsxWPJ8jCZ3=s64",
      "userId": "09386420671436836792"
     }
    },
    "colab": {
     "base_uri": "https://localhost:8080/",
     "height": 834
    }
   },
   "source": [
    "\n",
    "\n",
    "plot_results(loss_train_seq, loss_test_seq, acc_train_seq, acc_test_seq)"
   ],
   "execution_count": 25,
   "outputs": [
    {
     "name": "stdout",
     "output_type": "stream",
     "text": [
      "The test set prediction accuracy is 96.66203059805285%\n"
     ]
    },
    {
     "data": {
      "text/html": "\n\n\n\n\n\n  <div class=\"bk-root\" id=\"61b74b2c-ee3d-4717-88a2-43cde1f527df\" data-root-id=\"1245\"></div>\n"
     },
     "metadata": {},
     "output_type": "display_data"
    },
    {
     "data": {
      "application/javascript": "(function(root) {\n  function embed_document(root) {\n    \n  var docs_json = {\"05c1ec74-e01e-4f13-937e-ee42b7dee201\":{\"roots\":{\"references\":[{\"attributes\":{\"below\":[{\"id\":\"1256\"}],\"center\":[{\"id\":\"1259\"},{\"id\":\"1263\"},{\"id\":\"1289\"}],\"left\":[{\"id\":\"1260\"}],\"plot_height\":400,\"plot_width\":400,\"renderers\":[{\"id\":\"1281\"},{\"id\":\"1294\"}],\"title\":{\"id\":\"1246\"},\"toolbar\":{\"id\":\"1271\"},\"x_range\":{\"id\":\"1248\"},\"x_scale\":{\"id\":\"1252\"},\"y_range\":{\"id\":\"1250\"},\"y_scale\":{\"id\":\"1254\"}},\"id\":\"1245\",\"subtype\":\"Figure\",\"type\":\"Plot\"},{\"attributes\":{},\"id\":\"1250\",\"type\":\"DataRange1d\"},{\"attributes\":{\"source\":{\"id\":\"1244\"}},\"id\":\"1295\",\"type\":\"CDSView\"},{\"attributes\":{\"label\":{\"value\":\"Test\"},\"renderers\":[{\"id\":\"1294\"}]},\"id\":\"1304\",\"type\":\"LegendItem\"},{\"attributes\":{\"line_alpha\":0.1,\"line_color\":\"#329fe3\",\"line_width\":2,\"x\":{\"field\":\"epoch\"},\"y\":{\"field\":\"train_loss\"}},\"id\":\"1280\",\"type\":\"Line\"},{\"attributes\":{\"data_source\":{\"id\":\"1244\"},\"glyph\":{\"id\":\"1292\"},\"hover_glyph\":null,\"muted_glyph\":null,\"nonselection_glyph\":{\"id\":\"1293\"},\"selection_glyph\":null,\"view\":{\"id\":\"1295\"}},\"id\":\"1294\",\"type\":\"GlyphRenderer\"},{\"attributes\":{},\"id\":\"1254\",\"type\":\"LinearScale\"},{\"attributes\":{\"callback\":null,\"tooltips\":[[\"Epochs\",\"@epoch{int}\"],[\"Training Loss\",\"@train_loss{0.000 a}\"],[\"Test Loss\",\"@test_loss{0.000 a}\"]]},\"id\":\"1305\",\"type\":\"HoverTool\"},{\"attributes\":{\"line_alpha\":0.1,\"line_color\":\"#e33270\",\"line_width\":2,\"x\":{\"field\":\"epoch\"},\"y\":{\"field\":\"test_loss\"}},\"id\":\"1293\",\"type\":\"Line\"},{\"attributes\":{},\"id\":\"1265\",\"type\":\"WheelZoomTool\"},{\"attributes\":{\"axis_label\":\"Epochs\",\"formatter\":{\"id\":\"1285\"},\"ticker\":{\"id\":\"1257\"}},\"id\":\"1256\",\"type\":\"LinearAxis\"},{\"attributes\":{\"items\":[{\"id\":\"1290\"},{\"id\":\"1304\"}]},\"id\":\"1289\",\"type\":\"Legend\"},{\"attributes\":{},\"id\":\"1261\",\"type\":\"BasicTicker\"},{\"attributes\":{\"bottom_units\":\"screen\",\"fill_alpha\":0.5,\"fill_color\":\"lightgrey\",\"left_units\":\"screen\",\"level\":\"overlay\",\"line_alpha\":1.0,\"line_color\":\"black\",\"line_dash\":[4,4],\"line_width\":2,\"render_mode\":\"css\",\"right_units\":\"screen\",\"top_units\":\"screen\"},\"id\":\"1270\",\"type\":\"BoxAnnotation\"},{\"attributes\":{},\"id\":\"1264\",\"type\":\"PanTool\"},{\"attributes\":{\"label\":{\"value\":\"Train\"},\"renderers\":[{\"id\":\"1281\"}]},\"id\":\"1290\",\"type\":\"LegendItem\"},{\"attributes\":{\"data\":{\"epoch\":[1,2,3,4,5,6,7,8,9,10],\"test_loss\":[5.851180906071008,5.848346076357665,5.847077340008874,5.846266286179737,5.845681782625536,5.845237252079421,5.844886144779089,5.844600254664653,5.84436146199944,5.844158008753793],\"train_loss\":[5.857367583384106,5.849630623271761,5.847519896779691,5.846389355957922,5.845626309765766,5.8450586291345275,5.844612572390691,5.8442481746781585,5.8439415606959715,5.843677476048876]},\"selected\":{\"id\":\"1303\"},\"selection_policy\":{\"id\":\"1302\"}},\"id\":\"1244\",\"type\":\"ColumnDataSource\"},{\"attributes\":{\"active_drag\":\"auto\",\"active_inspect\":\"auto\",\"active_multi\":null,\"active_scroll\":\"auto\",\"active_tap\":\"auto\",\"tools\":[{\"id\":\"1264\"},{\"id\":\"1265\"},{\"id\":\"1266\"},{\"id\":\"1267\"},{\"id\":\"1268\"},{\"id\":\"1269\"},{\"id\":\"1305\"}]},\"id\":\"1271\",\"type\":\"Toolbar\"},{\"attributes\":{},\"id\":\"1257\",\"type\":\"BasicTicker\"},{\"attributes\":{},\"id\":\"1303\",\"type\":\"Selection\"},{\"attributes\":{},\"id\":\"1268\",\"type\":\"ResetTool\"},{\"attributes\":{\"data_source\":{\"id\":\"1244\"},\"glyph\":{\"id\":\"1279\"},\"hover_glyph\":null,\"muted_glyph\":null,\"nonselection_glyph\":{\"id\":\"1280\"},\"selection_glyph\":null,\"view\":{\"id\":\"1282\"}},\"id\":\"1281\",\"type\":\"GlyphRenderer\"},{\"attributes\":{\"line_alpha\":0.8,\"line_color\":\"#e33270\",\"line_width\":2,\"x\":{\"field\":\"epoch\"},\"y\":{\"field\":\"test_loss\"}},\"id\":\"1292\",\"type\":\"Line\"},{\"attributes\":{\"axis\":{\"id\":\"1256\"},\"ticker\":null},\"id\":\"1259\",\"type\":\"Grid\"},{\"attributes\":{},\"id\":\"1248\",\"type\":\"DataRange1d\"},{\"attributes\":{},\"id\":\"1252\",\"type\":\"LinearScale\"},{\"attributes\":{},\"id\":\"1287\",\"type\":\"BasicTickFormatter\"},{\"attributes\":{},\"id\":\"1285\",\"type\":\"BasicTickFormatter\"},{\"attributes\":{\"line_alpha\":0.8,\"line_color\":\"#329fe3\",\"line_width\":2,\"x\":{\"field\":\"epoch\"},\"y\":{\"field\":\"train_loss\"}},\"id\":\"1279\",\"type\":\"Line\"},{\"attributes\":{\"text\":\"Loss\"},\"id\":\"1246\",\"type\":\"Title\"},{\"attributes\":{\"overlay\":{\"id\":\"1270\"}},\"id\":\"1266\",\"type\":\"BoxZoomTool\"},{\"attributes\":{},\"id\":\"1302\",\"type\":\"UnionRenderers\"},{\"attributes\":{},\"id\":\"1269\",\"type\":\"HelpTool\"},{\"attributes\":{\"axis\":{\"id\":\"1260\"},\"dimension\":1,\"ticker\":null},\"id\":\"1263\",\"type\":\"Grid\"},{\"attributes\":{},\"id\":\"1267\",\"type\":\"SaveTool\"},{\"attributes\":{\"source\":{\"id\":\"1244\"}},\"id\":\"1282\",\"type\":\"CDSView\"},{\"attributes\":{\"axis_label\":\"Loss\",\"formatter\":{\"id\":\"1287\"},\"ticker\":{\"id\":\"1261\"}},\"id\":\"1260\",\"type\":\"LinearAxis\"}],\"root_ids\":[\"1245\"]},\"title\":\"Bokeh Application\",\"version\":\"2.0.1\"}};\n  var render_items = [{\"docid\":\"05c1ec74-e01e-4f13-937e-ee42b7dee201\",\"root_ids\":[\"1245\"],\"roots\":{\"1245\":\"61b74b2c-ee3d-4717-88a2-43cde1f527df\"}}];\n  root.Bokeh.embed.embed_items_notebook(docs_json, render_items);\n\n  }\n  if (root.Bokeh !== undefined) {\n    embed_document(root);\n  } else {\n    var attempts = 0;\n    var timer = setInterval(function(root) {\n      if (root.Bokeh !== undefined) {\n        clearInterval(timer);\n        embed_document(root);\n      } else {\n        attempts++;\n        if (attempts > 100) {\n          clearInterval(timer);\n          console.log(\"Bokeh: ERROR: Unable to run BokehJS code because BokehJS library is missing\");\n        }\n      }\n    }, 10, root)\n  }\n})(window);",
      "application/vnd.bokehjs_exec.v0+json": ""
     },
     "metadata": {
      "application/vnd.bokehjs_exec.v0+json": {
       "id": "1245"
      }
     },
     "output_type": "display_data"
    },
    {
     "data": {
      "text/html": "\n\n\n\n\n\n  <div class=\"bk-root\" id=\"879a7675-7a7f-44a4-ab77-b399648709f6\" data-root-id=\"1379\"></div>\n"
     },
     "metadata": {},
     "output_type": "display_data"
    },
    {
     "data": {
      "application/javascript": "(function(root) {\n  function embed_document(root) {\n    \n  var docs_json = {\"aecc25c1-5273-45ab-b54e-e3a2177338e7\":{\"roots\":{\"references\":[{\"attributes\":{\"below\":[{\"id\":\"1390\"}],\"center\":[{\"id\":\"1393\"},{\"id\":\"1397\"},{\"id\":\"1423\"}],\"left\":[{\"id\":\"1394\"}],\"plot_height\":400,\"plot_width\":400,\"renderers\":[{\"id\":\"1415\"},{\"id\":\"1428\"}],\"title\":{\"id\":\"1380\"},\"toolbar\":{\"id\":\"1405\"},\"x_range\":{\"id\":\"1382\"},\"x_scale\":{\"id\":\"1386\"},\"y_range\":{\"id\":\"1384\"},\"y_scale\":{\"id\":\"1388\"}},\"id\":\"1379\",\"subtype\":\"Figure\",\"type\":\"Plot\"},{\"attributes\":{},\"id\":\"1401\",\"type\":\"SaveTool\"},{\"attributes\":{\"axis\":{\"id\":\"1394\"},\"dimension\":1,\"ticker\":null},\"id\":\"1397\",\"type\":\"Grid\"},{\"attributes\":{\"data_source\":{\"id\":\"1378\"},\"glyph\":{\"id\":\"1413\"},\"hover_glyph\":null,\"muted_glyph\":null,\"nonselection_glyph\":{\"id\":\"1414\"},\"selection_glyph\":null,\"view\":{\"id\":\"1416\"}},\"id\":\"1415\",\"type\":\"GlyphRenderer\"},{\"attributes\":{},\"id\":\"1402\",\"type\":\"ResetTool\"},{\"attributes\":{\"line_alpha\":0.8,\"line_color\":\"#329fe3\",\"line_width\":2,\"x\":{\"field\":\"epoch\"},\"y\":{\"field\":\"train_acc\"}},\"id\":\"1413\",\"type\":\"Line\"},{\"attributes\":{\"active_drag\":\"auto\",\"active_inspect\":\"auto\",\"active_multi\":null,\"active_scroll\":\"auto\",\"active_tap\":\"auto\",\"tools\":[{\"id\":\"1398\"},{\"id\":\"1399\"},{\"id\":\"1400\"},{\"id\":\"1401\"},{\"id\":\"1402\"},{\"id\":\"1403\"},{\"id\":\"1441\"}]},\"id\":\"1405\",\"type\":\"Toolbar\"},{\"attributes\":{},\"id\":\"1384\",\"type\":\"DataRange1d\"},{\"attributes\":{\"overlay\":{\"id\":\"1404\"}},\"id\":\"1400\",\"type\":\"BoxZoomTool\"},{\"attributes\":{\"source\":{\"id\":\"1378\"}},\"id\":\"1429\",\"type\":\"CDSView\"},{\"attributes\":{},\"id\":\"1391\",\"type\":\"BasicTicker\"},{\"attributes\":{\"text\":\"Accuracy\"},\"id\":\"1380\",\"type\":\"Title\"},{\"attributes\":{\"items\":[{\"id\":\"1424\"},{\"id\":\"1438\"}],\"location\":\"bottom_right\"},\"id\":\"1423\",\"type\":\"Legend\"},{\"attributes\":{\"axis\":{\"id\":\"1390\"},\"ticker\":null},\"id\":\"1393\",\"type\":\"Grid\"},{\"attributes\":{},\"id\":\"1382\",\"type\":\"DataRange1d\"},{\"attributes\":{\"source\":{\"id\":\"1378\"}},\"id\":\"1416\",\"type\":\"CDSView\"},{\"attributes\":{\"line_alpha\":0.8,\"line_color\":\"#e33270\",\"line_width\":2,\"x\":{\"field\":\"epoch\"},\"y\":{\"field\":\"test_acc\"}},\"id\":\"1426\",\"type\":\"Line\"},{\"attributes\":{},\"id\":\"1386\",\"type\":\"LinearScale\"},{\"attributes\":{},\"id\":\"1403\",\"type\":\"HelpTool\"},{\"attributes\":{\"label\":{\"value\":\"Test\"},\"renderers\":[{\"id\":\"1428\"}]},\"id\":\"1438\",\"type\":\"LegendItem\"},{\"attributes\":{\"axis_label\":\"Epochs\",\"formatter\":{\"id\":\"1419\"},\"ticker\":{\"id\":\"1391\"}},\"id\":\"1390\",\"type\":\"LinearAxis\"},{\"attributes\":{},\"id\":\"1395\",\"type\":\"BasicTicker\"},{\"attributes\":{\"data\":{\"epoch\":[1,2,3,4,5,6,7,8,9,10],\"test_acc\":{\"__ndarray__\":\"KoVWY8cw6T+9gxJ0JizsP/GGa46Qdu0/hLTrdq4K7j8JOhMWnnzuP71UTpxnk+4/F+JrX8ye7j/apP8uxNfuPzQyHfIo4+4/jr86tY3u7j8=\",\"dtype\":\"float64\",\"shape\":[10]},\"train_acc\":{\"__ndarray__\":\"PKYG9o6p4T8IvXZyHWbrP/d7ocRG8ew/btu2bdu27T8pi0HCpRnuP8RZ+QlxVu4/jC666KKL7j8GHJ8jb6LuPyb9cTBuyO4/dORN1NPm7j8=\",\"dtype\":\"float64\",\"shape\":[10]}},\"selected\":{\"id\":\"1437\"},\"selection_policy\":{\"id\":\"1436\"}},\"id\":\"1378\",\"type\":\"ColumnDataSource\"},{\"attributes\":{},\"id\":\"1398\",\"type\":\"PanTool\"},{\"attributes\":{},\"id\":\"1436\",\"type\":\"UnionRenderers\"},{\"attributes\":{\"data_source\":{\"id\":\"1378\"},\"glyph\":{\"id\":\"1426\"},\"hover_glyph\":null,\"muted_glyph\":null,\"nonselection_glyph\":{\"id\":\"1427\"},\"selection_glyph\":null,\"view\":{\"id\":\"1429\"}},\"id\":\"1428\",\"type\":\"GlyphRenderer\"},{\"attributes\":{},\"id\":\"1388\",\"type\":\"LinearScale\"},{\"attributes\":{\"line_alpha\":0.1,\"line_color\":\"#e33270\",\"line_width\":2,\"x\":{\"field\":\"epoch\"},\"y\":{\"field\":\"test_acc\"}},\"id\":\"1427\",\"type\":\"Line\"},{\"attributes\":{\"line_alpha\":0.1,\"line_color\":\"#329fe3\",\"line_width\":2,\"x\":{\"field\":\"epoch\"},\"y\":{\"field\":\"train_acc\"}},\"id\":\"1414\",\"type\":\"Line\"},{\"attributes\":{\"label\":{\"value\":\"Train\"},\"renderers\":[{\"id\":\"1415\"}]},\"id\":\"1424\",\"type\":\"LegendItem\"},{\"attributes\":{},\"id\":\"1437\",\"type\":\"Selection\"},{\"attributes\":{\"callback\":null,\"tooltips\":[[\"Epochs\",\"@epoch{int}\"],[\"Training Accuracy\",\"@{train_acc}{%0.2f}\"],[\"Test Accuracy\",\"@{test_acc}{%0.2f}\"]]},\"id\":\"1441\",\"type\":\"HoverTool\"},{\"attributes\":{\"axis_label\":\"Accuracy\",\"formatter\":{\"id\":\"1439\"},\"ticker\":{\"id\":\"1395\"}},\"id\":\"1394\",\"type\":\"LinearAxis\"},{\"attributes\":{},\"id\":\"1419\",\"type\":\"BasicTickFormatter\"},{\"attributes\":{\"bottom_units\":\"screen\",\"fill_alpha\":0.5,\"fill_color\":\"lightgrey\",\"left_units\":\"screen\",\"level\":\"overlay\",\"line_alpha\":1.0,\"line_color\":\"black\",\"line_dash\":[4,4],\"line_width\":2,\"render_mode\":\"css\",\"right_units\":\"screen\",\"top_units\":\"screen\"},\"id\":\"1404\",\"type\":\"BoxAnnotation\"},{\"attributes\":{\"format\":\"0 %\"},\"id\":\"1439\",\"type\":\"NumeralTickFormatter\"},{\"attributes\":{},\"id\":\"1399\",\"type\":\"WheelZoomTool\"}],\"root_ids\":[\"1379\"]},\"title\":\"Bokeh Application\",\"version\":\"2.0.1\"}};\n  var render_items = [{\"docid\":\"aecc25c1-5273-45ab-b54e-e3a2177338e7\",\"root_ids\":[\"1379\"],\"roots\":{\"1379\":\"879a7675-7a7f-44a4-ab77-b399648709f6\"}}];\n  root.Bokeh.embed.embed_items_notebook(docs_json, render_items);\n\n  }\n  if (root.Bokeh !== undefined) {\n    embed_document(root);\n  } else {\n    var attempts = 0;\n    var timer = setInterval(function(root) {\n      if (root.Bokeh !== undefined) {\n        clearInterval(timer);\n        embed_document(root);\n      } else {\n        attempts++;\n        if (attempts > 100) {\n          clearInterval(timer);\n          console.log(\"Bokeh: ERROR: Unable to run BokehJS code because BokehJS library is missing\");\n        }\n      }\n    }, 10, root)\n  }\n})(window);",
      "application/vnd.bokehjs_exec.v0+json": ""
     },
     "metadata": {
      "application/vnd.bokehjs_exec.v0+json": {
       "id": "1379"
      }
     },
     "output_type": "display_data"
    }
   ]
  },
  {
   "cell_type": "markdown",
   "metadata": {
    "id": "exNo910IYN69",
    "colab_type": "text"
   },
   "source": [
    "## Compare Part ( i ) and ( ii ) on Dataset I"
   ]
  },
  {
   "cell_type": "code",
   "execution_count": 43,
   "outputs": [],
   "source": [
    "def plot_results_compare(result_cnn_vanilla, result_cnn_pytorch):\n",
    "\n",
    "    loss_train_van, loss_test_van, acc_train_van, acc_test_van = result_cnn_vanilla\n",
    "    loss_train_torch, loss_test_torch, acc_train_torch, acc_test_torch = result_cnn_pytorch\n",
    "\n",
    "    source = ColumnDataSource(data={\n",
    "        'epoch'            : range(1, len(acc_test_van) + 1),\n",
    "        'test_acc_van'        :  np.array(acc_test_van),\n",
    "        'test_acc_torch'        :  np.array(acc_test_torch),\n",
    "    })\n",
    "\n",
    "    p = figure(title='No CNN and PyTorch CNN Accuracy', plot_width=600, plot_height=400)\n",
    "\n",
    "    l_van = p.line(x='epoch', y='test_acc_van', color='#329fe3', line_alpha=0.8 , line_width=2, source=source)\n",
    "    l_torch = p.line(x='epoch', y='test_acc_torch', color='#e33270', line_alpha=0.8, line_width=2, source=source)\n",
    "    p.xaxis.axis_label = 'Epochs'\n",
    "    p.yaxis.axis_label = 'Accuracy'\n",
    "    p.yaxis.formatter = NumeralTickFormatter(format='0 %')\n",
    "\n",
    "\n",
    "    p.add_tools(HoverTool(\n",
    "        tooltips=[\n",
    "                  ('Epochs', '@epoch{int}'),\n",
    "                  ('No CNN', '@{test_acc_van}{%0.2f}'),\n",
    "                  ('PyTorch CNN', '@{test_acc_torch}{%0.2f}'),\n",
    "        ],\n",
    "\n",
    "        mode='mouse'\n",
    "    ))\n",
    "\n",
    "    legend = Legend(items=[('No CNN', [l_van]), ('PyTorch CNN', [l_torch]),], location=(0,250))\n",
    "    p.add_layout(legend, 'left')\n",
    "    output_file(\"results/accuracy-baseline-torch.html\")\n",
    "    save(p)"
   ],
   "metadata": {
    "collapsed": false,
    "pycharm": {
     "name": "#%%\n"
    }
   }
  },
  {
   "cell_type": "markdown",
   "metadata": {
    "id": "EY60-AaDYjra",
    "colab_type": "text"
   },
   "source": [
    "## Compare Results from Part ( i ) and (ii )"
   ]
  },
  {
   "cell_type": "code",
   "metadata": {
    "id": "cajZGChX03dV",
    "colab_type": "code",
    "colab": {}
   },
   "source": [
    "plot_results_compare(result_cnn_vanilla, result_cnn_pytorch)"
   ],
   "execution_count": 44,
   "outputs": []
  },
  {
   "cell_type": "markdown",
   "source": [
    "## Part ( iii ) Baseline on Dataset II"
   ],
   "metadata": {
    "collapsed": false
   }
  },
  {
   "cell_type": "code",
   "execution_count": null,
   "outputs": [],
   "source": [
    "# TODO Import libraries\n",
    "\n",
    "# TODO Load Dataset\n",
    "\n",
    "# TODO Setup Functions and modify to fit new image size\n",
    "\n",
    "# TODO Run Training\n",
    "\n",
    "# TODO Run Test\n",
    "\n",
    "# TODO Output Results\n",
    "\n"
   ],
   "metadata": {
    "collapsed": false,
    "pycharm": {
     "name": "#%%\n"
    }
   }
  },
  {
   "cell_type": "markdown",
   "metadata": {
    "id": "L93mja2AY0Q7",
    "colab_type": "text"
   },
   "source": [
    "## Part ( iv ) PyTorch on Dataset II"
   ]
  },
  {
   "cell_type": "code",
   "execution_count": null,
   "outputs": [],
   "source": [
    "# TODO Import libraries\n",
    "\n",
    "# TODO Load Dataset\n",
    "\n",
    "# TODO Setup Functions and modify to fit new image size\n",
    "\n",
    "# TODO Run Training\n",
    "\n",
    "# TODO Run Test\n",
    "\n",
    "# TODO Output Results\n"
   ],
   "metadata": {
    "collapsed": false,
    "pycharm": {
     "name": "#%%\n"
    }
   }
  },
  {
   "cell_type": "markdown",
   "metadata": {
    "id": "2-uqKa7fY_Em",
    "colab_type": "text"
   },
   "source": [
    "## Compare Part ( iii ) and ( iv ) on Dataset II"
   ]
  },
  {
   "cell_type": "markdown",
   "metadata": {
    "id": "1eDZFSRSZOgu",
    "colab_type": "text"
   },
   "source": [
    "## Summary of Results"
   ]
  },
  {
   "cell_type": "code",
   "metadata": {
    "id": "Mu8HQyK6YiOG",
    "colab_type": "code",
    "colab": {}
   },
   "source": [
    ""
   ],
   "execution_count": null,
   "outputs": []
  }
 ]
}